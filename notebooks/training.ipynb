{
 "cells": [
  {
   "cell_type": "code",
   "execution_count": 197,
   "metadata": {},
   "outputs": [],
   "source": [
    "import json\n",
    "import numpy as np\n",
    "import pandas as pd\n",
    "import os\n",
    "from matplotlib import pyplot as plt\n",
    "import random\n",
    "\n",
    "import tensorflow as tf\n",
    "from tensorflow import keras\n",
    "from tensorflow.keras import layers"
   ]
  },
  {
   "cell_type": "code",
   "execution_count": 206,
   "metadata": {},
   "outputs": [],
   "source": [
    "SEQUENCE_LENGTH = 30"
   ]
  },
  {
   "cell_type": "markdown",
   "metadata": {},
   "source": [
    "## Data preparation"
   ]
  },
  {
   "cell_type": "code",
   "execution_count": 207,
   "metadata": {},
   "outputs": [],
   "source": [
    "def load_data(filename):\n",
    "    \"\"\"\n",
    "    Loads one filename\n",
    "    \"\"\"\n",
    "    with open(filename) as json_file:\n",
    "        return json.load(json_file)"
   ]
  },
  {
   "cell_type": "code",
   "execution_count": 208,
   "metadata": {},
   "outputs": [],
   "source": [
    "def load_folder(directory='../data/train/'):\n",
    "    \"\"\"\n",
    "    Loads all the raw data from a given directory\n",
    "    \"\"\"\n",
    "    filenames = os.listdir(directory)\n",
    "    print(f\"Loading data from the following files: {filenames}\")\n",
    "    jsons = [load_data(directory + filename) for filename in filenames]\n",
    "    \n",
    "    # Merging all dicts into one\n",
    "    return dict((k,v) for d in jsons for k,v in d.items())"
   ]
  },
  {
   "cell_type": "code",
   "execution_count": 209,
   "metadata": {},
   "outputs": [
    {
     "name": "stdout",
     "output_type": "stream",
     "text": [
      "Loading data from the following files: ['dataset1.json', 'dataset5.json', 'dataset6.json', 'dataset2.json', 'dataset3.json', 'dataset4.json']\n",
      "Loading data from the following files: ['dataset1.json']\n",
      "Number of sessions loaded for training: 33\n",
      "Number of sessions loaded for testing: 5\n"
     ]
    }
   ],
   "source": [
    "raw_train_data = load_folder(directory='../data/train/')\n",
    "raw_test_data = load_folder(directory='../data/test/')\n",
    "\n",
    "print(f\"Number of sessions loaded for training: {len(raw_train_data)}\")\n",
    "print(f\"Number of sessions loaded for testing: {len(raw_test_data)}\")"
   ]
  },
  {
   "cell_type": "code",
   "execution_count": 210,
   "metadata": {},
   "outputs": [],
   "source": [
    "def preprocess(raw_session_data, sequence_length=10):\n",
    "    \"\"\"\n",
    "    Turns the raw session data into X and Y that can be\n",
    "    consumed by an ML algorithm\n",
    "    \"\"\"\n",
    "    \n",
    "    X = []\n",
    "    Y = []\n",
    "    \n",
    "    for (session_id, session_entries) in raw_session_data.items():\n",
    "        \n",
    "        xs = [entry['position'] for entry in session_entries]\n",
    "        ys = [1 if entry['label'] else 0 for entry in session_entries]\n",
    "        xss = [xs[i:i+sequence_length] for i in range(len(xs) - sequence_length)]\n",
    "        yss = [[ys[i+sequence_length]] for i in range(len(ys) - sequence_length)]\n",
    "        X.extend(xss)\n",
    "        Y.extend(yss)\n",
    "    \n",
    "    return np.array(X), np.array(Y)"
   ]
  },
  {
   "cell_type": "code",
   "execution_count": 211,
   "metadata": {},
   "outputs": [
    {
     "data": {
      "text/plain": [
       "(((146, 30, 2), (146, 1)), ((10, 30, 2), (10, 1)))"
      ]
     },
     "execution_count": 211,
     "metadata": {},
     "output_type": "execute_result"
    }
   ],
   "source": [
    "\n",
    "\n",
    "X_train, Y_train = preprocess(raw_train_data, sequence_length=SEQUENCE_LENGTH)\n",
    "X_test, Y_test = preprocess(raw_test_data, sequence_length=SEQUENCE_LENGTH)\n",
    "\n",
    "((X_train.shape, Y_train.shape), (X_test.shape, Y_test.shape))"
   ]
  },
  {
   "cell_type": "code",
   "execution_count": 212,
   "metadata": {},
   "outputs": [],
   "source": [
    "df = pd.DataFrame({\n",
    "        'x': list(X_train), \n",
    "        'y': list(Y_train.squeeze())\n",
    "     })"
   ]
  },
  {
   "cell_type": "code",
   "execution_count": 213,
   "metadata": {},
   "outputs": [
    {
     "data": {
      "text/plain": [
       "0    86\n",
       "1    60\n",
       "Name: y, dtype: int64"
      ]
     },
     "execution_count": 213,
     "metadata": {},
     "output_type": "execute_result"
    }
   ],
   "source": [
    "df['y'].value_counts()"
   ]
  },
  {
   "cell_type": "code",
   "execution_count": 214,
   "metadata": {},
   "outputs": [
    {
     "data": {
      "text/plain": [
       "0    0.589041\n",
       "1    0.410959\n",
       "Name: y, dtype: float64"
      ]
     },
     "execution_count": 214,
     "metadata": {},
     "output_type": "execute_result"
    }
   ],
   "source": [
    "df['y'].value_counts(normalize=True)"
   ]
  },
  {
   "cell_type": "code",
   "execution_count": 215,
   "metadata": {},
   "outputs": [
    {
     "data": {
      "text/plain": [
       "(array([[0.5230179 , 0.10810811],\n",
       "        [0.37468031, 0.10810811],\n",
       "        [0.28516624, 0.15057915],\n",
       "        [0.26982097, 0.23809524],\n",
       "        [0.3516624 , 0.29343629],\n",
       "        [0.44501279, 0.3037323 ],\n",
       "        [0.52685422, 0.26640927],\n",
       "        [0.56138107, 0.2007722 ],\n",
       "        [0.54347826, 0.12226512],\n",
       "        [0.44245524, 0.07464607],\n",
       "        [0.33503836, 0.1042471 ],\n",
       "        [0.29283887, 0.20849421],\n",
       "        [0.30818414, 0.27670528],\n",
       "        [0.39258312, 0.2972973 ],\n",
       "        [0.48976982, 0.26769627],\n",
       "        [0.52173913, 0.15830116],\n",
       "        [0.45012788, 0.06949807],\n",
       "        [0.32352941, 0.06821107],\n",
       "        [0.24680307, 0.12870013],\n",
       "        [0.22250639, 0.22136422],\n",
       "        [0.24040921, 0.26898327],\n",
       "        [0.32736573, 0.3037323 ],\n",
       "        [0.41176471, 0.27413127],\n",
       "        [0.44245524, 0.15701416],\n",
       "        [0.38363171, 0.0978121 ],\n",
       "        [0.26726343, 0.09137709],\n",
       "        [0.18414322, 0.16731017],\n",
       "        [0.1713555 , 0.24453024],\n",
       "        [0.19948849, 0.3011583 ],\n",
       "        [0.29795396, 0.33462033]]),\n",
       " array([1]))"
      ]
     },
     "execution_count": 215,
     "metadata": {},
     "output_type": "execute_result"
    }
   ],
   "source": [
    "idx = random.randint(0,len(X_train))\n",
    "X_train[idx], Y_train[idx]"
   ]
  },
  {
   "cell_type": "markdown",
   "metadata": {},
   "source": [
    "## Modeling"
   ]
  },
  {
   "cell_type": "code",
   "execution_count": 221,
   "metadata": {},
   "outputs": [],
   "source": [
    "def get_model():\n",
    "    \"\"\"\n",
    "    Returns the Keras model to train\n",
    "    \"\"\"\n",
    "\n",
    "    return keras.Sequential(\n",
    "        [   \n",
    "            layers.Input(shape=(10,2)),\n",
    "            layers.LSTM(20),\n",
    "            layers.Dropout(0.1),\n",
    "            layers.Dense(10, activation='relu'),\n",
    "            layers.Dense(2, activation='softmax')\n",
    "        ])"
   ]
  },
  {
   "cell_type": "code",
   "execution_count": 222,
   "metadata": {},
   "outputs": [],
   "source": [
    "model = get_model()"
   ]
  },
  {
   "cell_type": "code",
   "execution_count": 223,
   "metadata": {},
   "outputs": [
    {
     "name": "stdout",
     "output_type": "stream",
     "text": [
      "Model: \"sequential_22\"\n",
      "_________________________________________________________________\n",
      "Layer (type)                 Output Shape              Param #   \n",
      "=================================================================\n",
      "lstm_22 (LSTM)               (None, 20)                1840      \n",
      "_________________________________________________________________\n",
      "dropout_9 (Dropout)          (None, 20)                0         \n",
      "_________________________________________________________________\n",
      "dense_26 (Dense)             (None, 10)                210       \n",
      "_________________________________________________________________\n",
      "dense_27 (Dense)             (None, 2)                 22        \n",
      "=================================================================\n",
      "Total params: 2,072\n",
      "Trainable params: 2,072\n",
      "Non-trainable params: 0\n",
      "_________________________________________________________________\n"
     ]
    }
   ],
   "source": [
    "model.compile(\n",
    "    # loss=keras.losses.BinaryCrossentropy(), \n",
    "    loss='sparse_categorical_crossentropy', \n",
    "    optimizer='adam',\n",
    "    metrics=['accuracy']\n",
    ")\n",
    "model.summary()"
   ]
  },
  {
   "cell_type": "markdown",
   "metadata": {},
   "source": [
    "## Training"
   ]
  },
  {
   "cell_type": "code",
   "execution_count": 224,
   "metadata": {},
   "outputs": [
    {
     "name": "stdout",
     "output_type": "stream",
     "text": [
      "Epoch 1/100\n",
      "WARNING:tensorflow:Model was constructed with shape (None, 10, 2) for input Tensor(\"input_21:0\", shape=(None, 10, 2), dtype=float32), but it was called on an input with incompatible shape (None, 30, 2).\n",
      "WARNING:tensorflow:Model was constructed with shape (None, 10, 2) for input Tensor(\"input_21:0\", shape=(None, 10, 2), dtype=float32), but it was called on an input with incompatible shape (None, 30, 2).\n",
      "WARNING:tensorflow:Model was constructed with shape (None, 10, 2) for input Tensor(\"input_21:0\", shape=(None, 10, 2), dtype=float32), but it was called on an input with incompatible shape (None, 30, 2).\n",
      "1/1 - 0s - loss: 0.6870 - accuracy: 0.5753 - val_loss: 0.7108 - val_accuracy: 0.5000\n",
      "Epoch 2/100\n",
      "1/1 - 0s - loss: 0.6815 - accuracy: 0.5890 - val_loss: 0.7131 - val_accuracy: 0.5000\n",
      "Epoch 3/100\n",
      "1/1 - 0s - loss: 0.6779 - accuracy: 0.5890 - val_loss: 0.7150 - val_accuracy: 0.5000\n",
      "Epoch 4/100\n",
      "1/1 - 0s - loss: 0.6760 - accuracy: 0.5890 - val_loss: 0.7173 - val_accuracy: 0.5000\n",
      "Epoch 5/100\n",
      "1/1 - 0s - loss: 0.6761 - accuracy: 0.5890 - val_loss: 0.7200 - val_accuracy: 0.5000\n",
      "Epoch 6/100\n",
      "1/1 - 0s - loss: 0.6722 - accuracy: 0.5890 - val_loss: 0.7236 - val_accuracy: 0.5000\n",
      "Epoch 7/100\n",
      "1/1 - 0s - loss: 0.6722 - accuracy: 0.5890 - val_loss: 0.7278 - val_accuracy: 0.5000\n",
      "Epoch 8/100\n",
      "1/1 - 0s - loss: 0.6658 - accuracy: 0.5890 - val_loss: 0.7321 - val_accuracy: 0.5000\n",
      "Epoch 9/100\n",
      "1/1 - 0s - loss: 0.6712 - accuracy: 0.5890 - val_loss: 0.7365 - val_accuracy: 0.5000\n",
      "Epoch 10/100\n",
      "1/1 - 0s - loss: 0.6648 - accuracy: 0.5890 - val_loss: 0.7409 - val_accuracy: 0.5000\n",
      "Epoch 11/100\n",
      "1/1 - 0s - loss: 0.6649 - accuracy: 0.5890 - val_loss: 0.7453 - val_accuracy: 0.5000\n",
      "Epoch 12/100\n",
      "1/1 - 0s - loss: 0.6657 - accuracy: 0.5890 - val_loss: 0.7495 - val_accuracy: 0.5000\n",
      "Epoch 13/100\n",
      "1/1 - 0s - loss: 0.6645 - accuracy: 0.5890 - val_loss: 0.7535 - val_accuracy: 0.5000\n",
      "Epoch 14/100\n",
      "1/1 - 0s - loss: 0.6671 - accuracy: 0.5890 - val_loss: 0.7570 - val_accuracy: 0.5000\n",
      "Epoch 15/100\n",
      "1/1 - 0s - loss: 0.6660 - accuracy: 0.5890 - val_loss: 0.7601 - val_accuracy: 0.5000\n",
      "Epoch 16/100\n",
      "1/1 - 0s - loss: 0.6658 - accuracy: 0.5890 - val_loss: 0.7628 - val_accuracy: 0.5000\n",
      "Epoch 17/100\n",
      "1/1 - 0s - loss: 0.6603 - accuracy: 0.5890 - val_loss: 0.7650 - val_accuracy: 0.5000\n",
      "Epoch 18/100\n",
      "1/1 - 0s - loss: 0.6604 - accuracy: 0.5890 - val_loss: 0.7670 - val_accuracy: 0.5000\n",
      "Epoch 19/100\n",
      "1/1 - 0s - loss: 0.6574 - accuracy: 0.5890 - val_loss: 0.7688 - val_accuracy: 0.5000\n",
      "Epoch 20/100\n",
      "1/1 - 0s - loss: 0.6644 - accuracy: 0.5890 - val_loss: 0.7700 - val_accuracy: 0.5000\n",
      "Epoch 21/100\n",
      "1/1 - 0s - loss: 0.6533 - accuracy: 0.5890 - val_loss: 0.7710 - val_accuracy: 0.5000\n",
      "Epoch 22/100\n",
      "1/1 - 0s - loss: 0.6619 - accuracy: 0.5890 - val_loss: 0.7715 - val_accuracy: 0.5000\n",
      "Epoch 23/100\n",
      "1/1 - 0s - loss: 0.6590 - accuracy: 0.5890 - val_loss: 0.7715 - val_accuracy: 0.5000\n",
      "Epoch 24/100\n",
      "1/1 - 0s - loss: 0.6618 - accuracy: 0.5890 - val_loss: 0.7712 - val_accuracy: 0.5000\n",
      "Epoch 25/100\n",
      "1/1 - 0s - loss: 0.6544 - accuracy: 0.5890 - val_loss: 0.7707 - val_accuracy: 0.5000\n",
      "Epoch 26/100\n",
      "1/1 - 0s - loss: 0.6530 - accuracy: 0.5890 - val_loss: 0.7700 - val_accuracy: 0.5000\n",
      "Epoch 27/100\n",
      "1/1 - 0s - loss: 0.6593 - accuracy: 0.5890 - val_loss: 0.7690 - val_accuracy: 0.5000\n",
      "Epoch 28/100\n",
      "1/1 - 0s - loss: 0.6519 - accuracy: 0.5890 - val_loss: 0.7679 - val_accuracy: 0.5000\n",
      "Epoch 29/100\n",
      "1/1 - 0s - loss: 0.6541 - accuracy: 0.5890 - val_loss: 0.7672 - val_accuracy: 0.5000\n",
      "Epoch 30/100\n",
      "1/1 - 0s - loss: 0.6549 - accuracy: 0.5890 - val_loss: 0.7666 - val_accuracy: 0.5000\n",
      "Epoch 31/100\n",
      "1/1 - 0s - loss: 0.6456 - accuracy: 0.5890 - val_loss: 0.7665 - val_accuracy: 0.5000\n",
      "Epoch 32/100\n",
      "1/1 - 0s - loss: 0.6535 - accuracy: 0.5890 - val_loss: 0.7667 - val_accuracy: 0.5000\n",
      "Epoch 33/100\n",
      "1/1 - 0s - loss: 0.6534 - accuracy: 0.5890 - val_loss: 0.7673 - val_accuracy: 0.5000\n",
      "Epoch 34/100\n",
      "1/1 - 0s - loss: 0.6536 - accuracy: 0.5890 - val_loss: 0.7681 - val_accuracy: 0.5000\n",
      "Epoch 35/100\n",
      "1/1 - 0s - loss: 0.6499 - accuracy: 0.5890 - val_loss: 0.7690 - val_accuracy: 0.5000\n",
      "Epoch 36/100\n",
      "1/1 - 0s - loss: 0.6471 - accuracy: 0.5890 - val_loss: 0.7705 - val_accuracy: 0.5000\n",
      "Epoch 37/100\n",
      "1/1 - 0s - loss: 0.6403 - accuracy: 0.5890 - val_loss: 0.7723 - val_accuracy: 0.5000\n",
      "Epoch 38/100\n",
      "1/1 - 0s - loss: 0.6421 - accuracy: 0.5890 - val_loss: 0.7740 - val_accuracy: 0.5000\n",
      "Epoch 39/100\n",
      "1/1 - 0s - loss: 0.6364 - accuracy: 0.5890 - val_loss: 0.7755 - val_accuracy: 0.5000\n",
      "Epoch 40/100\n",
      "1/1 - 0s - loss: 0.6361 - accuracy: 0.5890 - val_loss: 0.7773 - val_accuracy: 0.5000\n",
      "Epoch 41/100\n",
      "1/1 - 0s - loss: 0.6431 - accuracy: 0.6027 - val_loss: 0.7794 - val_accuracy: 0.5000\n",
      "Epoch 42/100\n",
      "1/1 - 0s - loss: 0.6381 - accuracy: 0.6027 - val_loss: 0.7819 - val_accuracy: 0.5000\n",
      "Epoch 43/100\n",
      "1/1 - 0s - loss: 0.6376 - accuracy: 0.6233 - val_loss: 0.7849 - val_accuracy: 0.5000\n",
      "Epoch 44/100\n",
      "1/1 - 0s - loss: 0.6389 - accuracy: 0.6233 - val_loss: 0.7880 - val_accuracy: 0.5000\n",
      "Epoch 45/100\n",
      "1/1 - 0s - loss: 0.6297 - accuracy: 0.6370 - val_loss: 0.7917 - val_accuracy: 0.5000\n",
      "Epoch 46/100\n",
      "1/1 - 0s - loss: 0.6326 - accuracy: 0.6438 - val_loss: 0.7951 - val_accuracy: 0.5000\n",
      "Epoch 47/100\n",
      "1/1 - 0s - loss: 0.6340 - accuracy: 0.6438 - val_loss: 0.7979 - val_accuracy: 0.5000\n",
      "Epoch 48/100\n",
      "1/1 - 0s - loss: 0.6257 - accuracy: 0.6438 - val_loss: 0.8007 - val_accuracy: 0.5000\n",
      "Epoch 49/100\n",
      "1/1 - 0s - loss: 0.6296 - accuracy: 0.6438 - val_loss: 0.8032 - val_accuracy: 0.5000\n",
      "Epoch 50/100\n",
      "1/1 - 0s - loss: 0.6225 - accuracy: 0.6301 - val_loss: 0.8056 - val_accuracy: 0.5000\n",
      "Epoch 51/100\n",
      "1/1 - 0s - loss: 0.6146 - accuracy: 0.6370 - val_loss: 0.8085 - val_accuracy: 0.5000\n",
      "Epoch 52/100\n",
      "1/1 - 0s - loss: 0.6172 - accuracy: 0.6438 - val_loss: 0.8113 - val_accuracy: 0.5000\n",
      "Epoch 53/100\n",
      "1/1 - 0s - loss: 0.6129 - accuracy: 0.6438 - val_loss: 0.8139 - val_accuracy: 0.5000\n",
      "Epoch 54/100\n",
      "1/1 - 0s - loss: 0.6215 - accuracy: 0.6507 - val_loss: 0.8158 - val_accuracy: 0.5000\n",
      "Epoch 55/100\n",
      "1/1 - 0s - loss: 0.6137 - accuracy: 0.6781 - val_loss: 0.8179 - val_accuracy: 0.5000\n",
      "Epoch 56/100\n",
      "1/1 - 0s - loss: 0.6101 - accuracy: 0.7123 - val_loss: 0.8203 - val_accuracy: 0.5000\n",
      "Epoch 57/100\n",
      "1/1 - 0s - loss: 0.6120 - accuracy: 0.7329 - val_loss: 0.8228 - val_accuracy: 0.5000\n",
      "Epoch 58/100\n",
      "1/1 - 0s - loss: 0.5992 - accuracy: 0.7671 - val_loss: 0.8257 - val_accuracy: 0.5000\n",
      "Epoch 59/100\n",
      "1/1 - 0s - loss: 0.6065 - accuracy: 0.7603 - val_loss: 0.8285 - val_accuracy: 0.5000\n",
      "Epoch 60/100\n",
      "1/1 - 0s - loss: 0.6063 - accuracy: 0.7397 - val_loss: 0.8298 - val_accuracy: 0.5000\n",
      "Epoch 61/100\n",
      "1/1 - 0s - loss: 0.6080 - accuracy: 0.7397 - val_loss: 0.8297 - val_accuracy: 0.5000\n",
      "Epoch 62/100\n",
      "1/1 - 0s - loss: 0.5992 - accuracy: 0.7740 - val_loss: 0.8292 - val_accuracy: 0.5000\n",
      "Epoch 63/100\n",
      "1/1 - 0s - loss: 0.5963 - accuracy: 0.7808 - val_loss: 0.8296 - val_accuracy: 0.5000\n",
      "Epoch 64/100\n",
      "1/1 - 0s - loss: 0.5973 - accuracy: 0.7671 - val_loss: 0.8309 - val_accuracy: 0.5000\n",
      "Epoch 65/100\n",
      "1/1 - 0s - loss: 0.5888 - accuracy: 0.7808 - val_loss: 0.8323 - val_accuracy: 0.5000\n",
      "Epoch 66/100\n",
      "1/1 - 0s - loss: 0.6022 - accuracy: 0.7534 - val_loss: 0.8330 - val_accuracy: 0.5000\n",
      "Epoch 67/100\n",
      "1/1 - 0s - loss: 0.5784 - accuracy: 0.7671 - val_loss: 0.8326 - val_accuracy: 0.5000\n",
      "Epoch 68/100\n",
      "1/1 - 0s - loss: 0.5938 - accuracy: 0.7808 - val_loss: 0.8304 - val_accuracy: 0.6000\n",
      "Epoch 69/100\n",
      "1/1 - 0s - loss: 0.5848 - accuracy: 0.7192 - val_loss: 0.8285 - val_accuracy: 0.6000\n",
      "Epoch 70/100\n",
      "1/1 - 0s - loss: 0.5768 - accuracy: 0.7671 - val_loss: 0.8279 - val_accuracy: 0.7000\n",
      "Epoch 71/100\n",
      "1/1 - 0s - loss: 0.5791 - accuracy: 0.7740 - val_loss: 0.8281 - val_accuracy: 0.8000\n",
      "Epoch 72/100\n",
      "1/1 - 0s - loss: 0.5739 - accuracy: 0.7603 - val_loss: 0.8311 - val_accuracy: 0.8000\n",
      "Epoch 73/100\n",
      "1/1 - 0s - loss: 0.5721 - accuracy: 0.7603 - val_loss: 0.8354 - val_accuracy: 0.8000\n",
      "Epoch 74/100\n",
      "1/1 - 0s - loss: 0.5766 - accuracy: 0.7945 - val_loss: 0.8354 - val_accuracy: 0.8000\n",
      "Epoch 75/100\n",
      "1/1 - 0s - loss: 0.5685 - accuracy: 0.7740 - val_loss: 0.8296 - val_accuracy: 0.8000\n",
      "Epoch 76/100\n",
      "1/1 - 0s - loss: 0.5610 - accuracy: 0.7945 - val_loss: 0.8271 - val_accuracy: 0.8000\n",
      "Epoch 77/100\n",
      "1/1 - 0s - loss: 0.5715 - accuracy: 0.8082 - val_loss: 0.8229 - val_accuracy: 0.8000\n",
      "Epoch 78/100\n",
      "1/1 - 0s - loss: 0.5724 - accuracy: 0.7877 - val_loss: 0.8182 - val_accuracy: 0.8000\n"
     ]
    },
    {
     "name": "stdout",
     "output_type": "stream",
     "text": [
      "Epoch 79/100\n",
      "1/1 - 0s - loss: 0.5737 - accuracy: 0.7945 - val_loss: 0.8173 - val_accuracy: 0.8000\n",
      "Epoch 80/100\n",
      "1/1 - 0s - loss: 0.5567 - accuracy: 0.7877 - val_loss: 0.8216 - val_accuracy: 0.8000\n",
      "Epoch 81/100\n",
      "1/1 - 0s - loss: 0.5466 - accuracy: 0.7808 - val_loss: 0.8286 - val_accuracy: 0.8000\n",
      "Epoch 82/100\n",
      "1/1 - 0s - loss: 0.5543 - accuracy: 0.8014 - val_loss: 0.8278 - val_accuracy: 0.8000\n",
      "Epoch 83/100\n",
      "1/1 - 0s - loss: 0.5532 - accuracy: 0.8014 - val_loss: 0.8263 - val_accuracy: 0.8000\n",
      "Epoch 84/100\n",
      "1/1 - 0s - loss: 0.5478 - accuracy: 0.7877 - val_loss: 0.8267 - val_accuracy: 0.8000\n",
      "Epoch 85/100\n",
      "1/1 - 0s - loss: 0.5434 - accuracy: 0.7877 - val_loss: 0.8247 - val_accuracy: 0.8000\n",
      "Epoch 86/100\n",
      "1/1 - 0s - loss: 0.5558 - accuracy: 0.8082 - val_loss: 0.8265 - val_accuracy: 0.8000\n",
      "Epoch 87/100\n",
      "1/1 - 0s - loss: 0.5363 - accuracy: 0.8219 - val_loss: 0.8318 - val_accuracy: 0.8000\n",
      "Epoch 88/100\n",
      "1/1 - 0s - loss: 0.5334 - accuracy: 0.8219 - val_loss: 0.8288 - val_accuracy: 0.8000\n",
      "Epoch 89/100\n",
      "1/1 - 0s - loss: 0.5315 - accuracy: 0.8288 - val_loss: 0.8315 - val_accuracy: 0.7000\n",
      "Epoch 90/100\n",
      "1/1 - 0s - loss: 0.5305 - accuracy: 0.8151 - val_loss: 0.8376 - val_accuracy: 0.7000\n",
      "Epoch 91/100\n",
      "1/1 - 0s - loss: 0.5107 - accuracy: 0.8425 - val_loss: 0.8448 - val_accuracy: 0.7000\n",
      "Epoch 92/100\n",
      "1/1 - 0s - loss: 0.5220 - accuracy: 0.8151 - val_loss: 0.8561 - val_accuracy: 0.6000\n",
      "Epoch 93/100\n",
      "1/1 - 0s - loss: 0.5133 - accuracy: 0.8356 - val_loss: 0.8684 - val_accuracy: 0.6000\n",
      "Epoch 94/100\n",
      "1/1 - 0s - loss: 0.5037 - accuracy: 0.8288 - val_loss: 0.8899 - val_accuracy: 0.6000\n",
      "Epoch 95/100\n",
      "1/1 - 0s - loss: 0.5033 - accuracy: 0.8425 - val_loss: 0.9082 - val_accuracy: 0.5000\n",
      "Epoch 96/100\n",
      "1/1 - 0s - loss: 0.5089 - accuracy: 0.8288 - val_loss: 0.9111 - val_accuracy: 0.5000\n",
      "Epoch 97/100\n",
      "1/1 - 0s - loss: 0.5008 - accuracy: 0.8014 - val_loss: 0.9187 - val_accuracy: 0.5000\n",
      "Epoch 98/100\n",
      "1/1 - 0s - loss: 0.4903 - accuracy: 0.8151 - val_loss: 0.9368 - val_accuracy: 0.5000\n",
      "Epoch 99/100\n",
      "1/1 - 0s - loss: 0.4748 - accuracy: 0.8356 - val_loss: 0.9596 - val_accuracy: 0.5000\n",
      "Epoch 100/100\n",
      "1/1 - 0s - loss: 0.4608 - accuracy: 0.8219 - val_loss: 0.9764 - val_accuracy: 0.5000\n"
     ]
    }
   ],
   "source": [
    "history = model.fit(\n",
    "    X_train, \n",
    "    Y_train, \n",
    "    validation_data=(X_test, Y_test), \n",
    "    epochs=100, \n",
    "    batch_size=300, \n",
    "    verbose=2,\n",
    "    shuffle=True\n",
    ")"
   ]
  },
  {
   "cell_type": "code",
   "execution_count": 225,
   "metadata": {},
   "outputs": [
    {
     "data": {
      "image/png": "[encoded data removed]",
      "text/plain": [
       "<Figure size 432x288 with 1 Axes>"
      ]
     },
     "metadata": {
      "needs_background": "light"
     },
     "output_type": "display_data"
    }
   ],
   "source": [
    "plt.plot(history.history['accuracy'])\n",
    "plt.plot(history.history['val_accuracy'])\n",
    "plt.title('model accuracy')\n",
    "plt.ylabel('accuracy')\n",
    "plt.xlabel('epoch')\n",
    "plt.legend(['train', 'val'], loc='upper left')\n",
    "plt.show()"
   ]
  },
  {
   "cell_type": "code",
   "execution_count": 226,
   "metadata": {},
   "outputs": [
    {
     "name": "stdout",
     "output_type": "stream",
     "text": [
      "WARNING:tensorflow:Model was constructed with shape (None, 10, 2) for input Tensor(\"input_21:0\", shape=(None, 10, 2), dtype=float32), but it was called on an input with incompatible shape (None, 30, 2).\n"
     ]
    },
    {
     "data": {
      "text/plain": [
       "array([[0.9285568 , 0.07144321],\n",
       "       [0.9285684 , 0.07143165],\n",
       "       [0.6555754 , 0.3444246 ],\n",
       "       [0.6319443 , 0.3680557 ],\n",
       "       [0.6085182 , 0.3914818 ],\n",
       "       [0.6079422 , 0.39205784],\n",
       "       [0.68176305, 0.31823698],\n",
       "       [0.7691672 , 0.2308328 ],\n",
       "       [0.8296405 , 0.17035952],\n",
       "       [0.858588  , 0.14141203]], dtype=float32)"
      ]
     },
     "execution_count": 226,
     "metadata": {},
     "output_type": "execute_result"
    }
   ],
   "source": [
    "model.predict(X_test)"
   ]
  },
  {
   "cell_type": "code",
   "execution_count": 227,
   "metadata": {},
   "outputs": [
    {
     "data": {
      "text/plain": [
       "array([[0.46918708, 0.5308129 ],\n",
       "       [0.48362553, 0.5163744 ],\n",
       "       [0.5033667 , 0.49663326],\n",
       "       [0.54945624, 0.45054373],\n",
       "       [0.59227395, 0.40772602],\n",
       "       [0.65181017, 0.3481898 ],\n",
       "       [0.68818605, 0.31181398],\n",
       "       [0.74424034, 0.2557597 ],\n",
       "       [0.8077508 , 0.19224913],\n",
       "       [0.89383686, 0.10616314],\n",
       "       [0.9342601 , 0.06573996],\n",
       "       [0.94836426, 0.0516358 ],\n",
       "       [0.9494373 , 0.0505627 ],\n",
       "       [0.94920975, 0.05079019],\n",
       "       [0.94814795, 0.05185207],\n",
       "       [0.94683343, 0.05316655],\n",
       "       [0.9451614 , 0.05483854],\n",
       "       [0.94192725, 0.05807272],\n",
       "       [0.9381707 , 0.06182938],\n",
       "       [0.93207574, 0.0679243 ],\n",
       "       [0.9267381 , 0.07326189],\n",
       "       [0.9222327 , 0.07776739],\n",
       "       [0.4921598 , 0.5078402 ],\n",
       "       [0.49305004, 0.50694996],\n",
       "       [0.47499117, 0.52500886],\n",
       "       [0.45475203, 0.545248  ],\n",
       "       [0.43872854, 0.5612714 ],\n",
       "       [0.43438253, 0.56561756],\n",
       "       [0.44024035, 0.5597597 ],\n",
       "       [0.4523554 , 0.54764456],\n",
       "       [0.46037674, 0.53962326],\n",
       "       [0.46051654, 0.5394834 ],\n",
       "       [0.44887292, 0.5511271 ],\n",
       "       [0.43889663, 0.56110334],\n",
       "       [0.4314104 , 0.5685897 ],\n",
       "       [0.42374182, 0.5762582 ],\n",
       "       [0.56612647, 0.43387356],\n",
       "       [0.5888485 , 0.4111515 ],\n",
       "       [0.6124589 , 0.38754112],\n",
       "       [0.61933523, 0.38066477],\n",
       "       [0.6013597 , 0.39864028],\n",
       "       [0.57522404, 0.42477602],\n",
       "       [0.55573446, 0.4442655 ],\n",
       "       [0.5574825 , 0.44251755],\n",
       "       [0.5884041 , 0.41159588],\n",
       "       [0.6308909 , 0.3691091 ],\n",
       "       [0.6677735 , 0.3322265 ],\n",
       "       [0.67607695, 0.32392308],\n",
       "       [0.65847147, 0.3415285 ],\n",
       "       [0.9371983 , 0.06280173],\n",
       "       [0.936726  , 0.06327397],\n",
       "       [0.4414279 , 0.5585722 ],\n",
       "       [0.44043186, 0.55956817],\n",
       "       [0.43980026, 0.56019974],\n",
       "       [0.4399649 , 0.5600351 ],\n",
       "       [0.4406499 , 0.5593501 ],\n",
       "       [0.44147557, 0.5585244 ],\n",
       "       [0.44181585, 0.55818415],\n",
       "       [0.4416049 , 0.558395  ],\n",
       "       [0.44127285, 0.5587271 ],\n",
       "       [0.44118807, 0.5588119 ],\n",
       "       [0.44121173, 0.5587883 ],\n",
       "       [0.44105473, 0.55894524],\n",
       "       [0.4405981 , 0.5594019 ],\n",
       "       [0.4401611 , 0.5598389 ],\n",
       "       [0.4401494 , 0.5598506 ],\n",
       "       [0.44068876, 0.5593112 ],\n",
       "       [0.4411239 , 0.5588761 ],\n",
       "       [0.44110113, 0.5588989 ],\n",
       "       [0.44044816, 0.55955184],\n",
       "       [0.43949717, 0.5605028 ],\n",
       "       [0.43888256, 0.5611174 ],\n",
       "       [0.43878677, 0.56121325],\n",
       "       [0.4481811 , 0.5518189 ],\n",
       "       [0.44729942, 0.55270064],\n",
       "       [0.44656393, 0.5534361 ],\n",
       "       [0.4463364 , 0.5536636 ],\n",
       "       [0.44659737, 0.5534026 ],\n",
       "       [0.44760233, 0.55239767],\n",
       "       [0.44860464, 0.5513954 ],\n",
       "       [0.44940594, 0.55059403],\n",
       "       [0.7044507 , 0.29554924],\n",
       "       [0.94759953, 0.05240044],\n",
       "       [0.9525842 , 0.04741583],\n",
       "       [0.95511717, 0.04488281],\n",
       "       [0.9556594 , 0.04434066],\n",
       "       [0.9523729 , 0.04762711],\n",
       "       [0.9475655 , 0.05243454],\n",
       "       [0.9435599 , 0.05644005],\n",
       "       [0.94119126, 0.05880877],\n",
       "       [0.9388483 , 0.06115171],\n",
       "       [0.9356224 , 0.06437762],\n",
       "       [0.9312153 , 0.06878473],\n",
       "       [0.93127155, 0.06872849],\n",
       "       [0.9284487 , 0.07155134],\n",
       "       [0.9239782 , 0.07602181],\n",
       "       [0.9197655 , 0.08023446],\n",
       "       [0.9076212 , 0.09237885],\n",
       "       [0.8991755 , 0.10082447],\n",
       "       [0.88835025, 0.11164971],\n",
       "       [0.8832476 , 0.11675239],\n",
       "       [0.88180494, 0.11819502],\n",
       "       [0.8811517 , 0.11884838],\n",
       "       [0.8800892 , 0.11991082],\n",
       "       [0.85681695, 0.14318305],\n",
       "       [0.7643387 , 0.23566125],\n",
       "       [0.595113  , 0.40488708],\n",
       "       [0.44469556, 0.5553044 ],\n",
       "       [0.41555965, 0.58444035],\n",
       "       [0.4080966 , 0.5919033 ],\n",
       "       [0.41501546, 0.5849846 ],\n",
       "       [0.44054925, 0.55945075],\n",
       "       [0.5072215 , 0.4927785 ],\n",
       "       [0.5788859 , 0.4211141 ],\n",
       "       [0.6622453 , 0.33775476],\n",
       "       [0.7257514 , 0.2742485 ],\n",
       "       [0.772231  , 0.22776894],\n",
       "       [0.77892864, 0.22107133],\n",
       "       [0.7693674 , 0.23063257],\n",
       "       [0.7678112 , 0.23218882],\n",
       "       [0.77003324, 0.22996676],\n",
       "       [0.7888574 , 0.2111426 ],\n",
       "       [0.8062165 , 0.19378358],\n",
       "       [0.8828097 , 0.11719028],\n",
       "       [0.90419316, 0.09580681],\n",
       "       [0.9015771 , 0.09842288],\n",
       "       [0.89760137, 0.10239863],\n",
       "       [0.8881024 , 0.11189757],\n",
       "       [0.87759817, 0.12240187],\n",
       "       [0.86278814, 0.13721189],\n",
       "       [0.8425243 , 0.15747577],\n",
       "       [0.51795405, 0.48204595],\n",
       "       [0.58081585, 0.41918418],\n",
       "       [0.6416568 , 0.3583432 ],\n",
       "       [0.6865558 , 0.31344423],\n",
       "       [0.75432616, 0.24567382],\n",
       "       [0.8007319 , 0.19926809],\n",
       "       [0.8405303 , 0.1594697 ],\n",
       "       [0.8642021 , 0.13579793],\n",
       "       [0.8716877 , 0.12831235],\n",
       "       [0.87414235, 0.12585765],\n",
       "       [0.8733572 , 0.12664287],\n",
       "       [0.8674561 , 0.1325439 ],\n",
       "       [0.8677946 , 0.1322055 ],\n",
       "       [0.86406887, 0.13593109],\n",
       "       [0.846771  , 0.15322904]], dtype=float32)"
      ]
     },
     "execution_count": 227,
     "metadata": {},
     "output_type": "execute_result"
    }
   ],
   "source": [
    "model.predict(X_train)"
   ]
  },
  {
   "cell_type": "code",
   "execution_count": null,
   "metadata": {},
   "outputs": [],
   "source": []
  }
 ],
 "metadata": {
  "kernelspec": {
   "display_name": "Python 3",
   "language": "python",
   "name": "python3"
  },
  "language_info": {
   "codemirror_mode": {
    "name": "ipython",
    "version": 3
   },
   "file_extension": ".py",
   "mimetype": "text/x-python",
   "name": "python",
   "nbconvert_exporter": "python",
   "pygments_lexer": "ipython3",
   "version": "3.7.6"
  }
 },
 "nbformat": 4,
 "nbformat_minor": 4
}
