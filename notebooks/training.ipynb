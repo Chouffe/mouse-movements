{
 "cells": [
  {
   "cell_type": "code",
   "execution_count": 49,
   "metadata": {},
   "outputs": [],
   "source": [
    "import json\n",
    "import numpy as np\n",
    "import pandas as pd\n",
    "import os\n",
    "from matplotlib import pyplot as plt\n",
    "import random\n",
    "\n",
    "import tensorflow as tf\n",
    "from tensorflow import keras\n",
    "from tensorflow.keras import layers"
   ]
  },
  {
   "cell_type": "code",
   "execution_count": 50,
   "metadata": {},
   "outputs": [],
   "source": [
    "SEQUENCE_LENGTH = 25"
   ]
  },
  {
   "cell_type": "markdown",
   "metadata": {},
   "source": [
    "## Data preparation"
   ]
  },
  {
   "cell_type": "code",
   "execution_count": 51,
   "metadata": {},
   "outputs": [],
   "source": [
    "def load_data(filename):\n",
    "    \"\"\"\n",
    "    Loads one filename\n",
    "    \"\"\"\n",
    "    with open(filename) as json_file:\n",
    "        return json.load(json_file)"
   ]
  },
  {
   "cell_type": "code",
   "execution_count": 52,
   "metadata": {},
   "outputs": [],
   "source": [
    "def load_folder(directory='../data/train/'):\n",
    "    \"\"\"\n",
    "    Loads all the raw data from a given directory\n",
    "    \"\"\"\n",
    "    filenames = os.listdir(directory)\n",
    "    print(f\"Loading data from the following files: {filenames}\")\n",
    "    jsons = [load_data(directory + filename) for filename in filenames]\n",
    "    \n",
    "    # Merging all dicts into one\n",
    "    return dict((k,v) for d in jsons for k,v in d.items())"
   ]
  },
  {
   "cell_type": "code",
   "execution_count": 53,
   "metadata": {},
   "outputs": [
    {
     "name": "stdout",
     "output_type": "stream",
     "text": [
      "Loading data from the following files: ['dataset1.json', 'dataset5.json', 'dataset6.json', 'dataset2.json', 'dataset3.json', 'dataset4.json']\n",
      "Loading data from the following files: ['dataset1.json']\n",
      "Number of sessions loaded for training: 33\n",
      "Number of sessions loaded for testing: 5\n"
     ]
    }
   ],
   "source": [
    "raw_train_data = load_folder(directory='../data/train/')\n",
    "raw_test_data = load_folder(directory='../data/test/')\n",
    "\n",
    "print(f\"Number of sessions loaded for training: {len(raw_train_data)}\")\n",
    "print(f\"Number of sessions loaded for testing: {len(raw_test_data)}\")"
   ]
  },
  {
   "cell_type": "code",
   "execution_count": 54,
   "metadata": {},
   "outputs": [],
   "source": [
    "def preprocess(raw_session_data, sequence_length=SEQUENCE_LENGTH):\n",
    "    \"\"\"\n",
    "    Turns the raw session data into X and Y that can be\n",
    "    consumed by an ML algorithm\n",
    "    \"\"\"\n",
    "    \n",
    "    X = []\n",
    "    Y = []\n",
    "    \n",
    "    for (session_id, session_entries) in raw_session_data.items():\n",
    "        \n",
    "        xs = [entry['position'] for entry in session_entries]\n",
    "        ys = [1 if entry['label'] else 0 for entry in session_entries]\n",
    "        xss = [xs[i:i+sequence_length] for i in range(len(xs) - sequence_length)]\n",
    "        yss = [[ys[i+sequence_length]] for i in range(len(ys) - sequence_length)]\n",
    "        X.extend(xss)\n",
    "        Y.extend(yss)\n",
    "    \n",
    "    return np.array(X), np.array(Y)"
   ]
  },
  {
   "cell_type": "code",
   "execution_count": 55,
   "metadata": {},
   "outputs": [
    {
     "data": {
      "text/plain": [
       "(((209, 25, 2), (209, 1)), ((33, 25, 2), (33, 1)))"
      ]
     },
     "execution_count": 55,
     "metadata": {},
     "output_type": "execute_result"
    }
   ],
   "source": [
    "X_train, Y_train = preprocess(raw_train_data, sequence_length=SEQUENCE_LENGTH)\n",
    "X_test, Y_test = preprocess(raw_test_data, sequence_length=SEQUENCE_LENGTH)\n",
    "\n",
    "((X_train.shape, Y_train.shape), (X_test.shape, Y_test.shape))"
   ]
  },
  {
   "cell_type": "code",
   "execution_count": 56,
   "metadata": {},
   "outputs": [],
   "source": [
    "df = pd.DataFrame({\n",
    "        'x': list(X_train), \n",
    "        'y': list(Y_train.squeeze())\n",
    "     })"
   ]
  },
  {
   "cell_type": "code",
   "execution_count": 57,
   "metadata": {},
   "outputs": [
    {
     "data": {
      "text/plain": [
       "0    105\n",
       "1    104\n",
       "Name: y, dtype: int64"
      ]
     },
     "execution_count": 57,
     "metadata": {},
     "output_type": "execute_result"
    }
   ],
   "source": [
    "df['y'].value_counts()"
   ]
  },
  {
   "cell_type": "code",
   "execution_count": 58,
   "metadata": {},
   "outputs": [
    {
     "data": {
      "text/plain": [
       "0    0.502392\n",
       "1    0.497608\n",
       "Name: y, dtype: float64"
      ]
     },
     "execution_count": 58,
     "metadata": {},
     "output_type": "execute_result"
    }
   ],
   "source": [
    "df['y'].value_counts(normalize=True)"
   ]
  },
  {
   "cell_type": "code",
   "execution_count": 59,
   "metadata": {},
   "outputs": [
    {
     "data": {
      "text/plain": [
       "(array([[0.53680982, 0.04636785],\n",
       "        [0.56595092, 0.04482226],\n",
       "        [0.59815951, 0.04482226],\n",
       "        [0.62269939, 0.07264297],\n",
       "        [0.67638037, 0.08964451],\n",
       "        [0.67944785, 0.0927357 ],\n",
       "        [0.71472393, 0.23647604],\n",
       "        [0.59815951, 0.23802164],\n",
       "        [0.6303681 , 0.26120556],\n",
       "        [0.68558282, 0.53786708],\n",
       "        [0.69018405, 0.54714065],\n",
       "        [0.80981595, 0.8748068 ],\n",
       "        [0.80981595, 0.88098918],\n",
       "        [0.53220859, 0.87789799],\n",
       "        [0.45092025, 0.55023184],\n",
       "        [0.24539877, 0.5935085 ],\n",
       "        [0.24079755, 0.5935085 ],\n",
       "        [0.23006135, 0.81452859],\n",
       "        [0.06748466, 0.78516229],\n",
       "        [0.06441718, 0.73106646],\n",
       "        [0.04907975, 0.32921175],\n",
       "        [0.10276074, 0.17310665],\n",
       "        [0.13496933, 0.14219474],\n",
       "        [0.35582822, 0.24420402],\n",
       "        [0.37576687, 0.31993818]]),\n",
       " array([0]))"
      ]
     },
     "execution_count": 59,
     "metadata": {},
     "output_type": "execute_result"
    }
   ],
   "source": [
    "idx = random.randint(0,len(X_train))\n",
    "X_train[idx], Y_train[idx]"
   ]
  },
  {
   "cell_type": "markdown",
   "metadata": {},
   "source": [
    "## Modeling"
   ]
  },
  {
   "cell_type": "code",
   "execution_count": 67,
   "metadata": {},
   "outputs": [],
   "source": [
    "def get_model():\n",
    "    \"\"\"\n",
    "    Returns the Keras model to train\n",
    "    \"\"\"\n",
    "\n",
    "    return keras.Sequential(\n",
    "        [   \n",
    "            layers.Input(shape=(SEQUENCE_LENGTH, 2)),\n",
    "            layers.LSTM(20),\n",
    "            # layers.Dropout(0.1),\n",
    "            layers.Dense(2, activation='softmax')\n",
    "        ])"
   ]
  },
  {
   "cell_type": "code",
   "execution_count": 72,
   "metadata": {},
   "outputs": [],
   "source": [
    "model = get_model()"
   ]
  },
  {
   "cell_type": "code",
   "execution_count": 73,
   "metadata": {},
   "outputs": [
    {
     "name": "stdout",
     "output_type": "stream",
     "text": [
      "Model: \"sequential_6\"\n",
      "_________________________________________________________________\n",
      "Layer (type)                 Output Shape              Param #   \n",
      "=================================================================\n",
      "lstm_6 (LSTM)                (None, 20)                1840      \n",
      "_________________________________________________________________\n",
      "dense_8 (Dense)              (None, 2)                 42        \n",
      "=================================================================\n",
      "Total params: 1,882\n",
      "Trainable params: 1,882\n",
      "Non-trainable params: 0\n",
      "_________________________________________________________________\n"
     ]
    }
   ],
   "source": [
    "model.compile(\n",
    "    # loss=keras.losses.BinaryCrossentropy(), \n",
    "    loss='sparse_categorical_crossentropy', \n",
    "    optimizer='adam',\n",
    "    metrics=['accuracy']\n",
    ")\n",
    "model.summary()"
   ]
  },
  {
   "cell_type": "markdown",
   "metadata": {},
   "source": [
    "## Training"
   ]
  },
  {
   "cell_type": "code",
   "execution_count": 74,
   "metadata": {},
   "outputs": [
    {
     "name": "stdout",
     "output_type": "stream",
     "text": [
      "Epoch 1/100\n",
      "1/1 - 0s - loss: 0.6996 - accuracy: 0.5072 - val_loss: 0.6608 - val_accuracy: 0.4848\n",
      "Epoch 2/100\n",
      "1/1 - 0s - loss: 0.6971 - accuracy: 0.5215 - val_loss: 0.6674 - val_accuracy: 0.4848\n",
      "Epoch 3/100\n",
      "1/1 - 0s - loss: 0.6949 - accuracy: 0.5455 - val_loss: 0.6742 - val_accuracy: 0.5758\n",
      "Epoch 4/100\n",
      "1/1 - 0s - loss: 0.6931 - accuracy: 0.5885 - val_loss: 0.6811 - val_accuracy: 0.6061\n",
      "Epoch 5/100\n",
      "1/1 - 0s - loss: 0.6916 - accuracy: 0.5407 - val_loss: 0.6879 - val_accuracy: 0.5758\n",
      "Epoch 6/100\n",
      "1/1 - 0s - loss: 0.6904 - accuracy: 0.5167 - val_loss: 0.6947 - val_accuracy: 0.5758\n",
      "Epoch 7/100\n",
      "1/1 - 0s - loss: 0.6895 - accuracy: 0.4737 - val_loss: 0.7012 - val_accuracy: 0.5455\n",
      "Epoch 8/100\n",
      "1/1 - 0s - loss: 0.6888 - accuracy: 0.4593 - val_loss: 0.7073 - val_accuracy: 0.5455\n",
      "Epoch 9/100\n",
      "1/1 - 0s - loss: 0.6884 - accuracy: 0.4593 - val_loss: 0.7130 - val_accuracy: 0.4848\n",
      "Epoch 10/100\n",
      "1/1 - 0s - loss: 0.6880 - accuracy: 0.4737 - val_loss: 0.7179 - val_accuracy: 0.3636\n",
      "Epoch 11/100\n",
      "1/1 - 0s - loss: 0.6877 - accuracy: 0.4785 - val_loss: 0.7221 - val_accuracy: 0.3333\n",
      "Epoch 12/100\n",
      "1/1 - 0s - loss: 0.6875 - accuracy: 0.4833 - val_loss: 0.7255 - val_accuracy: 0.3030\n",
      "Epoch 13/100\n",
      "1/1 - 0s - loss: 0.6873 - accuracy: 0.4785 - val_loss: 0.7281 - val_accuracy: 0.3030\n",
      "Epoch 14/100\n",
      "1/1 - 0s - loss: 0.6871 - accuracy: 0.4785 - val_loss: 0.7299 - val_accuracy: 0.3030\n",
      "Epoch 15/100\n",
      "1/1 - 0s - loss: 0.6869 - accuracy: 0.4785 - val_loss: 0.7309 - val_accuracy: 0.3030\n",
      "Epoch 16/100\n",
      "1/1 - 0s - loss: 0.6865 - accuracy: 0.4785 - val_loss: 0.7311 - val_accuracy: 0.3030\n",
      "Epoch 17/100\n",
      "1/1 - 0s - loss: 0.6862 - accuracy: 0.4785 - val_loss: 0.7308 - val_accuracy: 0.3030\n",
      "Epoch 18/100\n",
      "1/1 - 0s - loss: 0.6858 - accuracy: 0.4833 - val_loss: 0.7298 - val_accuracy: 0.3030\n",
      "Epoch 19/100\n",
      "1/1 - 0s - loss: 0.6854 - accuracy: 0.4880 - val_loss: 0.7285 - val_accuracy: 0.3030\n",
      "Epoch 20/100\n",
      "1/1 - 0s - loss: 0.6849 - accuracy: 0.4880 - val_loss: 0.7268 - val_accuracy: 0.3030\n",
      "Epoch 21/100\n",
      "1/1 - 0s - loss: 0.6845 - accuracy: 0.4880 - val_loss: 0.7248 - val_accuracy: 0.3333\n",
      "Epoch 22/100\n",
      "1/1 - 0s - loss: 0.6840 - accuracy: 0.4928 - val_loss: 0.7227 - val_accuracy: 0.3333\n",
      "Epoch 23/100\n",
      "1/1 - 0s - loss: 0.6835 - accuracy: 0.4976 - val_loss: 0.7206 - val_accuracy: 0.3636\n",
      "Epoch 24/100\n",
      "1/1 - 0s - loss: 0.6831 - accuracy: 0.5072 - val_loss: 0.7185 - val_accuracy: 0.3636\n",
      "Epoch 25/100\n",
      "1/1 - 0s - loss: 0.6826 - accuracy: 0.5215 - val_loss: 0.7165 - val_accuracy: 0.4545\n",
      "Epoch 26/100\n",
      "1/1 - 0s - loss: 0.6822 - accuracy: 0.5311 - val_loss: 0.7146 - val_accuracy: 0.4848\n",
      "Epoch 27/100\n",
      "1/1 - 0s - loss: 0.6818 - accuracy: 0.5263 - val_loss: 0.7129 - val_accuracy: 0.5455\n",
      "Epoch 28/100\n",
      "1/1 - 0s - loss: 0.6813 - accuracy: 0.5407 - val_loss: 0.7115 - val_accuracy: 0.5455\n",
      "Epoch 29/100\n",
      "1/1 - 0s - loss: 0.6809 - accuracy: 0.5598 - val_loss: 0.7102 - val_accuracy: 0.5758\n",
      "Epoch 30/100\n",
      "1/1 - 0s - loss: 0.6804 - accuracy: 0.5598 - val_loss: 0.7093 - val_accuracy: 0.5758\n",
      "Epoch 31/100\n",
      "1/1 - 0s - loss: 0.6799 - accuracy: 0.5598 - val_loss: 0.7085 - val_accuracy: 0.5758\n",
      "Epoch 32/100\n",
      "1/1 - 0s - loss: 0.6794 - accuracy: 0.5885 - val_loss: 0.7080 - val_accuracy: 0.5758\n",
      "Epoch 33/100\n",
      "1/1 - 0s - loss: 0.6789 - accuracy: 0.6029 - val_loss: 0.7078 - val_accuracy: 0.5758\n",
      "Epoch 34/100\n",
      "1/1 - 0s - loss: 0.6783 - accuracy: 0.6268 - val_loss: 0.7077 - val_accuracy: 0.5455\n",
      "Epoch 35/100\n",
      "1/1 - 0s - loss: 0.6777 - accuracy: 0.6316 - val_loss: 0.7079 - val_accuracy: 0.5152\n",
      "Epoch 36/100\n",
      "1/1 - 0s - loss: 0.6771 - accuracy: 0.6507 - val_loss: 0.7082 - val_accuracy: 0.4848\n",
      "Epoch 37/100\n",
      "1/1 - 0s - loss: 0.6764 - accuracy: 0.6459 - val_loss: 0.7086 - val_accuracy: 0.4545\n",
      "Epoch 38/100\n",
      "1/1 - 0s - loss: 0.6758 - accuracy: 0.6507 - val_loss: 0.7090 - val_accuracy: 0.4242\n",
      "Epoch 39/100\n",
      "1/1 - 0s - loss: 0.6750 - accuracy: 0.6507 - val_loss: 0.7095 - val_accuracy: 0.4242\n",
      "Epoch 40/100\n",
      "1/1 - 0s - loss: 0.6743 - accuracy: 0.6507 - val_loss: 0.7099 - val_accuracy: 0.4242\n",
      "Epoch 41/100\n",
      "1/1 - 0s - loss: 0.6735 - accuracy: 0.6507 - val_loss: 0.7101 - val_accuracy: 0.3939\n",
      "Epoch 42/100\n",
      "1/1 - 0s - loss: 0.6726 - accuracy: 0.6555 - val_loss: 0.7100 - val_accuracy: 0.3939\n",
      "Epoch 43/100\n",
      "1/1 - 0s - loss: 0.6718 - accuracy: 0.6603 - val_loss: 0.7097 - val_accuracy: 0.3939\n",
      "Epoch 44/100\n",
      "1/1 - 0s - loss: 0.6708 - accuracy: 0.6603 - val_loss: 0.7089 - val_accuracy: 0.3636\n",
      "Epoch 45/100\n",
      "1/1 - 0s - loss: 0.6698 - accuracy: 0.6603 - val_loss: 0.7076 - val_accuracy: 0.3636\n",
      "Epoch 46/100\n",
      "1/1 - 0s - loss: 0.6687 - accuracy: 0.6603 - val_loss: 0.7058 - val_accuracy: 0.3636\n",
      "Epoch 47/100\n",
      "1/1 - 0s - loss: 0.6675 - accuracy: 0.6411 - val_loss: 0.7034 - val_accuracy: 0.3636\n",
      "Epoch 48/100\n",
      "1/1 - 0s - loss: 0.6661 - accuracy: 0.6411 - val_loss: 0.7005 - val_accuracy: 0.3636\n",
      "Epoch 49/100\n",
      "1/1 - 0s - loss: 0.6647 - accuracy: 0.6411 - val_loss: 0.6971 - val_accuracy: 0.3636\n",
      "Epoch 50/100\n",
      "1/1 - 0s - loss: 0.6631 - accuracy: 0.6364 - val_loss: 0.6932 - val_accuracy: 0.3636\n",
      "Epoch 51/100\n",
      "1/1 - 0s - loss: 0.6615 - accuracy: 0.6364 - val_loss: 0.6890 - val_accuracy: 0.3636\n",
      "Epoch 52/100\n",
      "1/1 - 0s - loss: 0.6596 - accuracy: 0.6364 - val_loss: 0.6844 - val_accuracy: 0.3636\n",
      "Epoch 53/100\n",
      "1/1 - 0s - loss: 0.6576 - accuracy: 0.6364 - val_loss: 0.6796 - val_accuracy: 0.3636\n",
      "Epoch 54/100\n",
      "1/1 - 0s - loss: 0.6554 - accuracy: 0.6364 - val_loss: 0.6746 - val_accuracy: 0.3939\n",
      "Epoch 55/100\n",
      "1/1 - 0s - loss: 0.6530 - accuracy: 0.6364 - val_loss: 0.6693 - val_accuracy: 0.3939\n",
      "Epoch 56/100\n",
      "1/1 - 0s - loss: 0.6504 - accuracy: 0.6364 - val_loss: 0.6638 - val_accuracy: 0.3939\n",
      "Epoch 57/100\n",
      "1/1 - 0s - loss: 0.6475 - accuracy: 0.6411 - val_loss: 0.6579 - val_accuracy: 0.4848\n",
      "Epoch 58/100\n",
      "1/1 - 0s - loss: 0.6444 - accuracy: 0.6459 - val_loss: 0.6515 - val_accuracy: 0.5152\n",
      "Epoch 59/100\n",
      "1/1 - 0s - loss: 0.6409 - accuracy: 0.6459 - val_loss: 0.6444 - val_accuracy: 0.5455\n",
      "Epoch 60/100\n",
      "1/1 - 0s - loss: 0.6372 - accuracy: 0.6459 - val_loss: 0.6364 - val_accuracy: 0.6364\n",
      "Epoch 61/100\n",
      "1/1 - 0s - loss: 0.6331 - accuracy: 0.6459 - val_loss: 0.6272 - val_accuracy: 0.6364\n",
      "Epoch 62/100\n",
      "1/1 - 0s - loss: 0.6286 - accuracy: 0.6603 - val_loss: 0.6166 - val_accuracy: 0.6364\n",
      "Epoch 63/100\n",
      "1/1 - 0s - loss: 0.6237 - accuracy: 0.6746 - val_loss: 0.6046 - val_accuracy: 0.6364\n",
      "Epoch 64/100\n",
      "1/1 - 0s - loss: 0.6185 - accuracy: 0.6746 - val_loss: 0.5914 - val_accuracy: 0.6667\n",
      "Epoch 65/100\n",
      "1/1 - 0s - loss: 0.6129 - accuracy: 0.6699 - val_loss: 0.5774 - val_accuracy: 0.6667\n",
      "Epoch 66/100\n",
      "1/1 - 0s - loss: 0.6069 - accuracy: 0.6699 - val_loss: 0.5634 - val_accuracy: 0.6667\n",
      "Epoch 67/100\n",
      "1/1 - 0s - loss: 0.6007 - accuracy: 0.6699 - val_loss: 0.5499 - val_accuracy: 0.6667\n",
      "Epoch 68/100\n",
      "1/1 - 0s - loss: 0.5942 - accuracy: 0.6746 - val_loss: 0.5375 - val_accuracy: 0.6667\n",
      "Epoch 69/100\n",
      "1/1 - 0s - loss: 0.5877 - accuracy: 0.6746 - val_loss: 0.5266 - val_accuracy: 0.6364\n",
      "Epoch 70/100\n",
      "1/1 - 0s - loss: 0.5812 - accuracy: 0.6699 - val_loss: 0.5172 - val_accuracy: 0.6364\n",
      "Epoch 71/100\n",
      "1/1 - 0s - loss: 0.5749 - accuracy: 0.6699 - val_loss: 0.5087 - val_accuracy: 0.6364\n",
      "Epoch 72/100\n",
      "1/1 - 0s - loss: 0.5688 - accuracy: 0.6651 - val_loss: 0.5005 - val_accuracy: 0.6364\n",
      "Epoch 73/100\n",
      "1/1 - 0s - loss: 0.5632 - accuracy: 0.6651 - val_loss: 0.4931 - val_accuracy: 0.6364\n",
      "Epoch 74/100\n",
      "1/1 - 0s - loss: 0.5581 - accuracy: 0.6651 - val_loss: 0.4876 - val_accuracy: 0.6364\n",
      "Epoch 75/100\n",
      "1/1 - 0s - loss: 0.5534 - accuracy: 0.6651 - val_loss: 0.4851 - val_accuracy: 0.6364\n",
      "Epoch 76/100\n",
      "1/1 - 0s - loss: 0.5491 - accuracy: 0.6699 - val_loss: 0.4852 - val_accuracy: 0.6364\n",
      "Epoch 77/100\n",
      "1/1 - 0s - loss: 0.5450 - accuracy: 0.6794 - val_loss: 0.4860 - val_accuracy: 0.6364\n",
      "Epoch 78/100\n",
      "1/1 - 0s - loss: 0.5411 - accuracy: 0.6938 - val_loss: 0.4858 - val_accuracy: 0.6364\n",
      "Epoch 79/100\n",
      "1/1 - 0s - loss: 0.5370 - accuracy: 0.6938 - val_loss: 0.4848 - val_accuracy: 0.6364\n",
      "Epoch 80/100\n",
      "1/1 - 0s - loss: 0.5326 - accuracy: 0.6890 - val_loss: 0.4841 - val_accuracy: 0.6364\n",
      "Epoch 81/100\n",
      "1/1 - 0s - loss: 0.5279 - accuracy: 0.6890 - val_loss: 0.4850 - val_accuracy: 0.6364\n",
      "Epoch 82/100\n",
      "1/1 - 0s - loss: 0.5228 - accuracy: 0.6938 - val_loss: 0.4872 - val_accuracy: 0.6364\n",
      "Epoch 83/100\n",
      "1/1 - 0s - loss: 0.5176 - accuracy: 0.6890 - val_loss: 0.4895 - val_accuracy: 0.6667\n",
      "Epoch 84/100\n",
      "1/1 - 0s - loss: 0.5123 - accuracy: 0.6794 - val_loss: 0.4909 - val_accuracy: 0.6667\n"
     ]
    },
    {
     "name": "stdout",
     "output_type": "stream",
     "text": [
      "Epoch 85/100\n",
      "1/1 - 0s - loss: 0.5072 - accuracy: 0.6794 - val_loss: 0.4912 - val_accuracy: 0.6970\n",
      "Epoch 86/100\n",
      "1/1 - 0s - loss: 0.5024 - accuracy: 0.6890 - val_loss: 0.4912 - val_accuracy: 0.6970\n",
      "Epoch 87/100\n",
      "1/1 - 0s - loss: 0.4979 - accuracy: 0.6890 - val_loss: 0.4907 - val_accuracy: 0.6970\n",
      "Epoch 88/100\n",
      "1/1 - 0s - loss: 0.4939 - accuracy: 0.6842 - val_loss: 0.4893 - val_accuracy: 0.7576\n",
      "Epoch 89/100\n",
      "1/1 - 0s - loss: 0.4901 - accuracy: 0.6938 - val_loss: 0.4868 - val_accuracy: 0.8182\n",
      "Epoch 90/100\n",
      "1/1 - 0s - loss: 0.4866 - accuracy: 0.7033 - val_loss: 0.4835 - val_accuracy: 0.8788\n",
      "Epoch 91/100\n",
      "1/1 - 0s - loss: 0.4833 - accuracy: 0.7177 - val_loss: 0.4802 - val_accuracy: 0.8788\n",
      "Epoch 92/100\n",
      "1/1 - 0s - loss: 0.4802 - accuracy: 0.7177 - val_loss: 0.4772 - val_accuracy: 0.8788\n",
      "Epoch 93/100\n",
      "1/1 - 0s - loss: 0.4772 - accuracy: 0.7225 - val_loss: 0.4746 - val_accuracy: 0.8788\n",
      "Epoch 94/100\n",
      "1/1 - 0s - loss: 0.4742 - accuracy: 0.7177 - val_loss: 0.4720 - val_accuracy: 0.8788\n",
      "Epoch 95/100\n",
      "1/1 - 0s - loss: 0.4714 - accuracy: 0.7225 - val_loss: 0.4692 - val_accuracy: 0.8788\n",
      "Epoch 96/100\n",
      "1/1 - 0s - loss: 0.4685 - accuracy: 0.7225 - val_loss: 0.4660 - val_accuracy: 0.8788\n",
      "Epoch 97/100\n",
      "1/1 - 0s - loss: 0.4658 - accuracy: 0.7225 - val_loss: 0.4628 - val_accuracy: 0.8788\n",
      "Epoch 98/100\n",
      "1/1 - 0s - loss: 0.4632 - accuracy: 0.7225 - val_loss: 0.4595 - val_accuracy: 0.8788\n",
      "Epoch 99/100\n",
      "1/1 - 0s - loss: 0.4606 - accuracy: 0.7273 - val_loss: 0.4557 - val_accuracy: 0.8788\n",
      "Epoch 100/100\n",
      "1/1 - 0s - loss: 0.4580 - accuracy: 0.7273 - val_loss: 0.4514 - val_accuracy: 0.8788\n"
     ]
    }
   ],
   "source": [
    "history = model.fit(\n",
    "    X_train, \n",
    "    Y_train, \n",
    "    validation_data=(X_test, Y_test), \n",
    "    epochs=100, \n",
    "    batch_size=300, \n",
    "    verbose=2,\n",
    "    shuffle=True\n",
    ")"
   ]
  },
  {
   "cell_type": "code",
   "execution_count": 75,
   "metadata": {},
   "outputs": [
    {
     "data": {
      "image/png": "[encoded data removed]",
      "text/plain": [
       "<Figure size 432x288 with 1 Axes>"
      ]
     },
     "metadata": {
      "needs_background": "light"
     },
     "output_type": "display_data"
    }
   ],
   "source": [
    "plt.plot(history.history['accuracy'])\n",
    "plt.plot(history.history['val_accuracy'])\n",
    "plt.title('model accuracy')\n",
    "plt.ylabel('accuracy')\n",
    "plt.xlabel('epoch')\n",
    "plt.legend(['train', 'val'], loc='upper left')\n",
    "plt.show()"
   ]
  },
  {
   "cell_type": "code",
   "execution_count": 76,
   "metadata": {},
   "outputs": [
    {
     "data": {
      "text/plain": [
       "array([[0.65765995, 0.34234002],\n",
       "       [0.6664376 , 0.33356228],\n",
       "       [0.68177307, 0.31822693],\n",
       "       [0.6972662 , 0.30273378],\n",
       "       [0.3259662 , 0.67403376],\n",
       "       [0.3442434 , 0.65575665],\n",
       "       [0.3750786 , 0.6249214 ],\n",
       "       [0.40659848, 0.5934015 ],\n",
       "       [0.41250548, 0.5874945 ],\n",
       "       [0.38192946, 0.61807054],\n",
       "       [0.34335178, 0.6566482 ],\n",
       "       [0.44119847, 0.5588015 ],\n",
       "       [0.44836915, 0.55163085],\n",
       "       [0.4519781 , 0.54802185],\n",
       "       [0.4504756 , 0.5495244 ],\n",
       "       [0.44530675, 0.5546933 ],\n",
       "       [0.43721712, 0.5627829 ],\n",
       "       [0.42717752, 0.5728225 ],\n",
       "       [0.42103228, 0.5789677 ],\n",
       "       [0.02520234, 0.9747977 ],\n",
       "       [0.02672593, 0.97327405],\n",
       "       [0.02996593, 0.97003406],\n",
       "       [0.03322039, 0.9667796 ],\n",
       "       [0.77987885, 0.22012115],\n",
       "       [0.8025268 , 0.19747318],\n",
       "       [0.81309766, 0.1869024 ],\n",
       "       [0.81879324, 0.18120678],\n",
       "       [0.81881756, 0.18118249],\n",
       "       [0.8120433 , 0.18795668],\n",
       "       [0.79766583, 0.20233418],\n",
       "       [0.7740198 , 0.22598024],\n",
       "       [0.7487685 , 0.25123143],\n",
       "       [0.72142506, 0.27857497]], dtype=float32)"
      ]
     },
     "execution_count": 76,
     "metadata": {},
     "output_type": "execute_result"
    }
   ],
   "source": [
    "model.predict(X_test)"
   ]
  },
  {
   "cell_type": "code",
   "execution_count": 77,
   "metadata": {},
   "outputs": [
    {
     "data": {
      "text/plain": [
       "array([[0.39585286, 0.60414714],\n",
       "       [0.4342232 , 0.5657768 ],\n",
       "       [0.4544939 , 0.54550606],\n",
       "       [0.46514726, 0.5348527 ],\n",
       "       [0.47642   , 0.5235801 ],\n",
       "       [0.48062485, 0.5193751 ],\n",
       "       [0.49068645, 0.5093135 ],\n",
       "       [0.50224847, 0.49775156],\n",
       "       [0.51357764, 0.4864224 ],\n",
       "       [0.5283828 , 0.4716172 ],\n",
       "       [0.5670022 , 0.43299782],\n",
       "       [0.58845985, 0.41154012],\n",
       "       [0.62137985, 0.37862015],\n",
       "       [0.6453963 , 0.35460368],\n",
       "       [0.6494829 , 0.35051712],\n",
       "       [0.5706234 , 0.4293766 ],\n",
       "       [0.78871435, 0.21128568],\n",
       "       [0.84797287, 0.15202716],\n",
       "       [0.8641428 , 0.13585725],\n",
       "       [0.8711299 , 0.1288701 ],\n",
       "       [0.8685334 , 0.13146663],\n",
       "       [0.8649674 , 0.13503262],\n",
       "       [0.85939115, 0.14060883],\n",
       "       [0.8388104 , 0.16118959],\n",
       "       [0.81541955, 0.18458045],\n",
       "       [0.7953739 , 0.20462607],\n",
       "       [0.78064877, 0.21935122],\n",
       "       [0.72680885, 0.2731912 ],\n",
       "       [0.75286824, 0.24713175],\n",
       "       [0.7732997 , 0.22670028],\n",
       "       [0.9051634 , 0.09483663],\n",
       "       [0.71894544, 0.28105456],\n",
       "       [0.60452974, 0.39547032],\n",
       "       [0.59977186, 0.40022817],\n",
       "       [0.51915455, 0.48084545],\n",
       "       [0.5246629 , 0.475337  ],\n",
       "       [0.53910726, 0.4608928 ],\n",
       "       [0.5601902 , 0.4398098 ],\n",
       "       [0.57526463, 0.4247353 ],\n",
       "       [0.5778453 , 0.42215472],\n",
       "       [0.5713762 , 0.4286238 ],\n",
       "       [0.5542487 , 0.44575128],\n",
       "       [0.53867024, 0.46132973],\n",
       "       [0.5313343 , 0.46866578],\n",
       "       [0.53507525, 0.46492475],\n",
       "       [0.54665947, 0.4533405 ],\n",
       "       [0.56416506, 0.43583494],\n",
       "       [0.5737173 , 0.4262827 ],\n",
       "       [0.5715233 , 0.42847666],\n",
       "       [0.55964804, 0.44035193],\n",
       "       [0.5436092 , 0.4563908 ],\n",
       "       [0.53038114, 0.46961883],\n",
       "       [0.5237064 , 0.47629362],\n",
       "       [0.02365414, 0.97634584],\n",
       "       [0.02427048, 0.9757295 ],\n",
       "       [0.02754802, 0.972452  ],\n",
       "       [0.43817014, 0.5618299 ],\n",
       "       [0.4430637 , 0.5569363 ],\n",
       "       [0.4454745 , 0.5545255 ],\n",
       "       [0.4443949 , 0.5556051 ],\n",
       "       [0.701304  , 0.29869598],\n",
       "       [0.7153261 , 0.28467393],\n",
       "       [0.7229591 , 0.2770409 ],\n",
       "       [0.7202271 , 0.27977288],\n",
       "       [0.70654345, 0.29345658],\n",
       "       [0.69167924, 0.30832073],\n",
       "       [0.68154234, 0.31845763],\n",
       "       [0.6831297 , 0.3168703 ],\n",
       "       [0.6949837 , 0.30501628],\n",
       "       [0.7079234 , 0.29207656],\n",
       "       [0.71568465, 0.28431535],\n",
       "       [0.7129318 , 0.2870682 ],\n",
       "       [0.7017961 , 0.29820395],\n",
       "       [0.6902192 , 0.30978078],\n",
       "       [0.6835616 , 0.3164384 ],\n",
       "       [0.68819004, 0.31180996],\n",
       "       [0.7022951 , 0.29770488],\n",
       "       [0.71502084, 0.28497916],\n",
       "       [0.20838672, 0.7916133 ],\n",
       "       [0.19570696, 0.80429304],\n",
       "       [0.18956359, 0.81043637],\n",
       "       [0.19293675, 0.80706334],\n",
       "       [0.20889695, 0.791103  ],\n",
       "       [0.23972686, 0.76027316],\n",
       "       [0.26405102, 0.7359489 ],\n",
       "       [0.04963336, 0.9503667 ],\n",
       "       [0.05161519, 0.9483848 ],\n",
       "       [0.07102586, 0.92897415],\n",
       "       [0.10950191, 0.8904981 ],\n",
       "       [0.12815256, 0.8718474 ],\n",
       "       [0.09471108, 0.90528893],\n",
       "       [0.05478011, 0.9452199 ],\n",
       "       [0.03585308, 0.964147  ],\n",
       "       [0.02922401, 0.97077596],\n",
       "       [0.02779725, 0.9722028 ],\n",
       "       [0.02973717, 0.9702628 ],\n",
       "       [0.03354107, 0.9664589 ],\n",
       "       [0.03405988, 0.96594006],\n",
       "       [0.03075209, 0.9692479 ],\n",
       "       [0.02630234, 0.97369766],\n",
       "       [0.02334433, 0.97665566],\n",
       "       [0.02251458, 0.9774854 ],\n",
       "       [0.02311589, 0.97688407],\n",
       "       [0.02473878, 0.9752612 ],\n",
       "       [0.02661627, 0.97338367],\n",
       "       [0.0271703 , 0.97282964],\n",
       "       [0.02640801, 0.973592  ],\n",
       "       [0.0243444 , 0.9756556 ],\n",
       "       [0.02271794, 0.97728205],\n",
       "       [0.0224715 , 0.9775285 ],\n",
       "       [0.02319219, 0.97680783],\n",
       "       [0.02493192, 0.97506803],\n",
       "       [0.01862149, 0.98137856],\n",
       "       [0.01869855, 0.9813014 ],\n",
       "       [0.01887795, 0.981122  ],\n",
       "       [0.01901295, 0.9809871 ],\n",
       "       [0.01913524, 0.9808647 ],\n",
       "       [0.01915131, 0.98084867],\n",
       "       [0.01897427, 0.98102576],\n",
       "       [0.01866738, 0.98133266],\n",
       "       [0.01833979, 0.98166025],\n",
       "       [0.01812555, 0.98187447],\n",
       "       [0.01817172, 0.9818283 ],\n",
       "       [0.01834906, 0.98165095],\n",
       "       [0.01856522, 0.9814348 ],\n",
       "       [0.7055344 , 0.2944656 ],\n",
       "       [0.7201905 , 0.27980945],\n",
       "       [0.7391993 , 0.2608007 ],\n",
       "       [0.7395941 , 0.2604059 ],\n",
       "       [0.7094385 , 0.29056153],\n",
       "       [0.64139235, 0.35860762],\n",
       "       [0.044701  , 0.95529896],\n",
       "       [0.05244041, 0.94755965],\n",
       "       [0.12033033, 0.87966967],\n",
       "       [0.2091711 , 0.7908289 ],\n",
       "       [0.63994837, 0.3600516 ],\n",
       "       [0.6715062 , 0.3284938 ],\n",
       "       [0.69508934, 0.3049107 ],\n",
       "       [0.72228837, 0.2777117 ],\n",
       "       [0.7547867 , 0.24521327],\n",
       "       [0.7905858 , 0.20941418],\n",
       "       [0.82675266, 0.17324732],\n",
       "       [0.8590523 , 0.14094765],\n",
       "       [0.8857633 , 0.11423672],\n",
       "       [0.9000867 , 0.09991334],\n",
       "       [0.9056385 , 0.09436146],\n",
       "       [0.9079364 , 0.09206363],\n",
       "       [0.90923446, 0.09076551],\n",
       "       [0.90741354, 0.09258644],\n",
       "       [0.9032623 , 0.09673766],\n",
       "       [0.8945604 , 0.10543956],\n",
       "       [0.89014935, 0.1098507 ],\n",
       "       [0.8814231 , 0.11857681],\n",
       "       [0.86431825, 0.13568175],\n",
       "       [0.83844465, 0.16155535],\n",
       "       [0.78112084, 0.2188792 ],\n",
       "       [0.71434724, 0.28565282],\n",
       "       [0.6546496 , 0.34535044],\n",
       "       [0.5855399 , 0.4144601 ],\n",
       "       [0.57372147, 0.42627856],\n",
       "       [0.5645369 , 0.435463  ],\n",
       "       [0.55445963, 0.44554037],\n",
       "       [0.5016978 , 0.49830216],\n",
       "       [0.47811866, 0.5218813 ],\n",
       "       [0.474796  , 0.525204  ],\n",
       "       [0.48135874, 0.5186413 ],\n",
       "       [0.4922379 , 0.50776213],\n",
       "       [0.50040966, 0.4995903 ],\n",
       "       [0.5113707 , 0.48862925],\n",
       "       [0.53235483, 0.46764517],\n",
       "       [0.57382584, 0.42617413],\n",
       "       [0.6065252 , 0.3934749 ],\n",
       "       [0.6510265 , 0.34897345],\n",
       "       [0.6875446 , 0.31245542],\n",
       "       [0.7318247 , 0.26817524],\n",
       "       [0.76671475, 0.23328523],\n",
       "       [0.7870015 , 0.21299852],\n",
       "       [0.7911584 , 0.20884162],\n",
       "       [0.78086895, 0.2191311 ],\n",
       "       [0.763408  , 0.23659196],\n",
       "       [0.73147005, 0.26852995],\n",
       "       [0.7003693 , 0.2996307 ],\n",
       "       [0.67654395, 0.32345608],\n",
       "       [0.64937216, 0.3506278 ],\n",
       "       [0.6313428 , 0.36865717],\n",
       "       [0.6182953 , 0.3817047 ],\n",
       "       [0.62940687, 0.37059307],\n",
       "       [0.6538035 , 0.34619644],\n",
       "       [0.67504317, 0.32495686],\n",
       "       [0.57414526, 0.4258548 ],\n",
       "       [0.5690467 , 0.43095338],\n",
       "       [0.5577023 , 0.44229773],\n",
       "       [0.56165123, 0.4383488 ],\n",
       "       [0.5724143 , 0.42758575],\n",
       "       [0.5899843 , 0.41001573],\n",
       "       [0.6031858 , 0.3968143 ],\n",
       "       [0.60867614, 0.39132386],\n",
       "       [0.6127117 , 0.38728833],\n",
       "       [0.6261636 , 0.3738364 ],\n",
       "       [0.64211506, 0.35788488],\n",
       "       [0.66785264, 0.33214733],\n",
       "       [0.69320494, 0.3067951 ],\n",
       "       [0.7002387 , 0.2997613 ],\n",
       "       [0.708834  , 0.291166  ],\n",
       "       [0.7201957 , 0.2798042 ],\n",
       "       [0.73366314, 0.26633692],\n",
       "       [0.7773675 , 0.22263259],\n",
       "       [0.8141025 , 0.18589754],\n",
       "       [0.84491944, 0.1550805 ]], dtype=float32)"
      ]
     },
     "execution_count": 77,
     "metadata": {},
     "output_type": "execute_result"
    }
   ],
   "source": [
    "model.predict(X_train)"
   ]
  },
  {
   "cell_type": "code",
   "execution_count": null,
   "metadata": {},
   "outputs": [],
   "source": []
  }
 ],
 "metadata": {
  "kernelspec": {
   "display_name": "Python 3",
   "language": "python",
   "name": "python3"
  },
  "language_info": {
   "codemirror_mode": {
    "name": "ipython",
    "version": 3
   },
   "file_extension": ".py",
   "mimetype": "text/x-python",
   "name": "python",
   "nbconvert_exporter": "python",
   "pygments_lexer": "ipython3",
   "version": "3.7.6"
  }
 },
 "nbformat": 4,
 "nbformat_minor": 4
}
