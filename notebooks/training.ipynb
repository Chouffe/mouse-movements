{
 "cells": [
  {
   "cell_type": "code",
   "execution_count": 1,
   "metadata": {},
   "outputs": [],
   "source": [
    "import json\n",
    "import numpy as np\n",
    "import pandas as pd\n",
    "import os\n",
    "from matplotlib import pyplot as plt\n",
    "import random\n",
    "\n",
    "import tensorflow as tf\n",
    "from tensorflow import keras\n",
    "from tensorflow.keras import layers"
   ]
  },
  {
   "cell_type": "code",
   "execution_count": 2,
   "metadata": {},
   "outputs": [],
   "source": [
    "SEQUENCE_LENGTH = 30"
   ]
  },
  {
   "cell_type": "markdown",
   "metadata": {},
   "source": [
    "## Data preparation"
   ]
  },
  {
   "cell_type": "code",
   "execution_count": 3,
   "metadata": {},
   "outputs": [],
   "source": [
    "def load_data(filename):\n",
    "    \"\"\"\n",
    "    Loads one filename\n",
    "    \"\"\"\n",
    "    with open(filename) as json_file:\n",
    "        return json.load(json_file)"
   ]
  },
  {
   "cell_type": "code",
   "execution_count": 4,
   "metadata": {},
   "outputs": [],
   "source": [
    "def load_folder(directory='../data/train/'):\n",
    "    \"\"\"\n",
    "    Loads all the raw data from a given directory\n",
    "    \"\"\"\n",
    "    filenames = os.listdir(directory)\n",
    "    print(f\"Loading data from the following files: {filenames}\")\n",
    "    jsons = [load_data(directory + filename) for filename in filenames]\n",
    "    \n",
    "    # Merging all dicts into one\n",
    "    return dict((k,v) for d in jsons for k,v in d.items())"
   ]
  },
  {
   "cell_type": "code",
   "execution_count": 5,
   "metadata": {},
   "outputs": [
    {
     "name": "stdout",
     "output_type": "stream",
     "text": [
      "Loading data from the following files: ['dataset1.json', 'dataset5.json', 'dataset6.json', 'dataset2.json', 'dataset3.json', 'dataset4.json']\n",
      "Loading data from the following files: ['dataset1.json']\n",
      "Number of sessions loaded for training: 33\n",
      "Number of sessions loaded for testing: 5\n"
     ]
    }
   ],
   "source": [
    "raw_train_data = load_folder(directory='../data/train/')\n",
    "raw_test_data = load_folder(directory='../data/test/')\n",
    "\n",
    "print(f\"Number of sessions loaded for training: {len(raw_train_data)}\")\n",
    "print(f\"Number of sessions loaded for testing: {len(raw_test_data)}\")"
   ]
  },
  {
   "cell_type": "code",
   "execution_count": 6,
   "metadata": {},
   "outputs": [],
   "source": [
    "def preprocess(raw_session_data, sequence_length=10):\n",
    "    \"\"\"\n",
    "    Turns the raw session data into X and Y that can be\n",
    "    consumed by an ML algorithm\n",
    "    \"\"\"\n",
    "    \n",
    "    X = []\n",
    "    Y = []\n",
    "    \n",
    "    for (session_id, session_entries) in raw_session_data.items():\n",
    "        \n",
    "        xs = [entry['position'] for entry in session_entries]\n",
    "        ys = [1 if entry['label'] else 0 for entry in session_entries]\n",
    "        xss = [xs[i:i+sequence_length] for i in range(len(xs) - sequence_length)]\n",
    "        yss = [[ys[i+sequence_length]] for i in range(len(ys) - sequence_length)]\n",
    "        X.extend(xss)\n",
    "        Y.extend(yss)\n",
    "    \n",
    "    return np.array(X), np.array(Y)"
   ]
  },
  {
   "cell_type": "code",
   "execution_count": 7,
   "metadata": {},
   "outputs": [
    {
     "data": {
      "text/plain": [
       "(((146, 30, 2), (146, 1)), ((10, 30, 2), (10, 1)))"
      ]
     },
     "execution_count": 7,
     "metadata": {},
     "output_type": "execute_result"
    }
   ],
   "source": [
    "\n",
    "\n",
    "X_train, Y_train = preprocess(raw_train_data, sequence_length=SEQUENCE_LENGTH)\n",
    "X_test, Y_test = preprocess(raw_test_data, sequence_length=SEQUENCE_LENGTH)\n",
    "\n",
    "((X_train.shape, Y_train.shape), (X_test.shape, Y_test.shape))"
   ]
  },
  {
   "cell_type": "code",
   "execution_count": 8,
   "metadata": {},
   "outputs": [],
   "source": [
    "df = pd.DataFrame({\n",
    "        'x': list(X_train), \n",
    "        'y': list(Y_train.squeeze())\n",
    "     })"
   ]
  },
  {
   "cell_type": "code",
   "execution_count": 9,
   "metadata": {},
   "outputs": [
    {
     "data": {
      "text/plain": [
       "0    86\n",
       "1    60\n",
       "Name: y, dtype: int64"
      ]
     },
     "execution_count": 9,
     "metadata": {},
     "output_type": "execute_result"
    }
   ],
   "source": [
    "df['y'].value_counts()"
   ]
  },
  {
   "cell_type": "code",
   "execution_count": 10,
   "metadata": {},
   "outputs": [
    {
     "data": {
      "text/plain": [
       "0    0.589041\n",
       "1    0.410959\n",
       "Name: y, dtype: float64"
      ]
     },
     "execution_count": 10,
     "metadata": {},
     "output_type": "execute_result"
    }
   ],
   "source": [
    "df['y'].value_counts(normalize=True)"
   ]
  },
  {
   "cell_type": "code",
   "execution_count": 11,
   "metadata": {},
   "outputs": [
    {
     "data": {
      "text/plain": [
       "(array([[0.43734015, 0.2767733 ],\n",
       "        [0.28005115, 0.29207232],\n",
       "        [0.1202046 , 0.56467316],\n",
       "        [0.23657289, 0.67176634],\n",
       "        [0.61892583, 0.43810848],\n",
       "        [0.58184143, 0.16968011],\n",
       "        [0.30818414, 0.18776078],\n",
       "        [0.15601023, 0.37969402],\n",
       "        [0.12276215, 0.52851182],\n",
       "        [0.19820972, 0.60917942],\n",
       "        [0.36317136, 0.58553547],\n",
       "        [0.48337596, 0.4255911 ],\n",
       "        [0.50895141, 0.29485396],\n",
       "        [0.34782609, 0.19054242],\n",
       "        [0.17519182, 0.26703755],\n",
       "        [0.12404092, 0.45062587],\n",
       "        [0.13682864, 0.51877608],\n",
       "        [0.16496164, 0.54798331],\n",
       "        [0.30690537, 0.57579972],\n",
       "        [0.47570332, 0.47566064],\n",
       "        [0.50511509, 0.34214186],\n",
       "        [0.46803069, 0.28789986],\n",
       "        [0.34782609, 0.27538248],\n",
       "        [0.22506394, 0.30180807],\n",
       "        [0.09335038, 0.44645341],\n",
       "        [0.12148338, 0.58831711],\n",
       "        [0.30434783, 0.61613352],\n",
       "        [0.47826087, 0.40611961],\n",
       "        [0.51534527, 0.26425591],\n",
       "        [0.37340153, 0.23365786]]),\n",
       " array([1]))"
      ]
     },
     "execution_count": 11,
     "metadata": {},
     "output_type": "execute_result"
    }
   ],
   "source": [
    "idx = random.randint(0,len(X_train))\n",
    "X_train[idx], Y_train[idx]"
   ]
  },
  {
   "cell_type": "markdown",
   "metadata": {},
   "source": [
    "## Modeling"
   ]
  },
  {
   "cell_type": "code",
   "execution_count": 26,
   "metadata": {},
   "outputs": [],
   "source": [
    "def get_model():\n",
    "    \"\"\"\n",
    "    Returns the Keras model to train\n",
    "    \"\"\"\n",
    "\n",
    "    return keras.Sequential(\n",
    "        [   \n",
    "            layers.Input(shape=(SEQUENCE_LENGTH, 2)),\n",
    "            layers.LSTM(20),\n",
    "            # layers.Dropout(0.1),\n",
    "            layers.Dense(2, activation='softmax')\n",
    "        ])"
   ]
  },
  {
   "cell_type": "code",
   "execution_count": 27,
   "metadata": {},
   "outputs": [],
   "source": [
    "model = get_model()"
   ]
  },
  {
   "cell_type": "code",
   "execution_count": 28,
   "metadata": {},
   "outputs": [
    {
     "name": "stdout",
     "output_type": "stream",
     "text": [
      "Model: \"sequential_2\"\n",
      "_________________________________________________________________\n",
      "Layer (type)                 Output Shape              Param #   \n",
      "=================================================================\n",
      "lstm_2 (LSTM)                (None, 20)                1840      \n",
      "_________________________________________________________________\n",
      "dense_4 (Dense)              (None, 2)                 42        \n",
      "=================================================================\n",
      "Total params: 1,882\n",
      "Trainable params: 1,882\n",
      "Non-trainable params: 0\n",
      "_________________________________________________________________\n"
     ]
    }
   ],
   "source": [
    "model.compile(\n",
    "    # loss=keras.losses.BinaryCrossentropy(), \n",
    "    loss='sparse_categorical_crossentropy', \n",
    "    optimizer='adam',\n",
    "    metrics=['accuracy']\n",
    ")\n",
    "model.summary()"
   ]
  },
  {
   "cell_type": "markdown",
   "metadata": {},
   "source": [
    "## Training"
   ]
  },
  {
   "cell_type": "code",
   "execution_count": 29,
   "metadata": {},
   "outputs": [
    {
     "name": "stdout",
     "output_type": "stream",
     "text": [
      "Epoch 1/100\n",
      "1/1 - 0s - loss: 0.7066 - accuracy: 0.4110 - val_loss: 0.6752 - val_accuracy: 1.0000\n",
      "Epoch 2/100\n",
      "1/1 - 0s - loss: 0.7019 - accuracy: 0.3836 - val_loss: 0.6777 - val_accuracy: 1.0000\n",
      "Epoch 3/100\n",
      "1/1 - 0s - loss: 0.6976 - accuracy: 0.3904 - val_loss: 0.6804 - val_accuracy: 0.6000\n",
      "Epoch 4/100\n",
      "1/1 - 0s - loss: 0.6936 - accuracy: 0.4315 - val_loss: 0.6834 - val_accuracy: 0.5000\n",
      "Epoch 5/100\n",
      "1/1 - 0s - loss: 0.6899 - accuracy: 0.5548 - val_loss: 0.6866 - val_accuracy: 0.5000\n",
      "Epoch 6/100\n",
      "1/1 - 0s - loss: 0.6865 - accuracy: 0.5890 - val_loss: 0.6899 - val_accuracy: 0.5000\n",
      "Epoch 7/100\n",
      "1/1 - 0s - loss: 0.6834 - accuracy: 0.5890 - val_loss: 0.6935 - val_accuracy: 0.5000\n",
      "Epoch 8/100\n",
      "1/1 - 0s - loss: 0.6806 - accuracy: 0.5890 - val_loss: 0.6972 - val_accuracy: 0.5000\n",
      "Epoch 9/100\n",
      "1/1 - 0s - loss: 0.6781 - accuracy: 0.5890 - val_loss: 0.7011 - val_accuracy: 0.5000\n",
      "Epoch 10/100\n",
      "1/1 - 0s - loss: 0.6758 - accuracy: 0.5890 - val_loss: 0.7051 - val_accuracy: 0.5000\n",
      "Epoch 11/100\n",
      "1/1 - 0s - loss: 0.6737 - accuracy: 0.5890 - val_loss: 0.7092 - val_accuracy: 0.5000\n",
      "Epoch 12/100\n",
      "1/1 - 0s - loss: 0.6719 - accuracy: 0.5890 - val_loss: 0.7135 - val_accuracy: 0.5000\n",
      "Epoch 13/100\n",
      "1/1 - 0s - loss: 0.6703 - accuracy: 0.5890 - val_loss: 0.7178 - val_accuracy: 0.5000\n",
      "Epoch 14/100\n",
      "1/1 - 0s - loss: 0.6689 - accuracy: 0.5890 - val_loss: 0.7222 - val_accuracy: 0.5000\n",
      "Epoch 15/100\n",
      "1/1 - 0s - loss: 0.6677 - accuracy: 0.5890 - val_loss: 0.7267 - val_accuracy: 0.5000\n",
      "Epoch 16/100\n",
      "1/1 - 0s - loss: 0.6667 - accuracy: 0.5890 - val_loss: 0.7311 - val_accuracy: 0.5000\n",
      "Epoch 17/100\n",
      "1/1 - 0s - loss: 0.6658 - accuracy: 0.5890 - val_loss: 0.7354 - val_accuracy: 0.5000\n",
      "Epoch 18/100\n",
      "1/1 - 0s - loss: 0.6651 - accuracy: 0.5890 - val_loss: 0.7397 - val_accuracy: 0.5000\n",
      "Epoch 19/100\n",
      "1/1 - 0s - loss: 0.6646 - accuracy: 0.5890 - val_loss: 0.7437 - val_accuracy: 0.5000\n",
      "Epoch 20/100\n",
      "1/1 - 0s - loss: 0.6641 - accuracy: 0.5890 - val_loss: 0.7475 - val_accuracy: 0.5000\n",
      "Epoch 21/100\n",
      "1/1 - 0s - loss: 0.6637 - accuracy: 0.5890 - val_loss: 0.7511 - val_accuracy: 0.5000\n",
      "Epoch 22/100\n",
      "1/1 - 0s - loss: 0.6634 - accuracy: 0.5890 - val_loss: 0.7542 - val_accuracy: 0.5000\n",
      "Epoch 23/100\n",
      "1/1 - 0s - loss: 0.6632 - accuracy: 0.5890 - val_loss: 0.7569 - val_accuracy: 0.5000\n",
      "Epoch 24/100\n",
      "1/1 - 0s - loss: 0.6629 - accuracy: 0.5890 - val_loss: 0.7592 - val_accuracy: 0.5000\n",
      "Epoch 25/100\n",
      "1/1 - 0s - loss: 0.6626 - accuracy: 0.5890 - val_loss: 0.7609 - val_accuracy: 0.5000\n",
      "Epoch 26/100\n",
      "1/1 - 0s - loss: 0.6622 - accuracy: 0.5890 - val_loss: 0.7622 - val_accuracy: 0.5000\n",
      "Epoch 27/100\n",
      "1/1 - 0s - loss: 0.6618 - accuracy: 0.5890 - val_loss: 0.7630 - val_accuracy: 0.5000\n",
      "Epoch 28/100\n",
      "1/1 - 0s - loss: 0.6614 - accuracy: 0.5890 - val_loss: 0.7633 - val_accuracy: 0.5000\n",
      "Epoch 29/100\n",
      "1/1 - 0s - loss: 0.6608 - accuracy: 0.5890 - val_loss: 0.7631 - val_accuracy: 0.5000\n",
      "Epoch 30/100\n",
      "1/1 - 0s - loss: 0.6602 - accuracy: 0.5890 - val_loss: 0.7626 - val_accuracy: 0.5000\n",
      "Epoch 31/100\n",
      "1/1 - 0s - loss: 0.6596 - accuracy: 0.5890 - val_loss: 0.7617 - val_accuracy: 0.5000\n",
      "Epoch 32/100\n",
      "1/1 - 0s - loss: 0.6589 - accuracy: 0.5890 - val_loss: 0.7606 - val_accuracy: 0.5000\n",
      "Epoch 33/100\n",
      "1/1 - 0s - loss: 0.6582 - accuracy: 0.5890 - val_loss: 0.7593 - val_accuracy: 0.5000\n",
      "Epoch 34/100\n",
      "1/1 - 0s - loss: 0.6575 - accuracy: 0.5890 - val_loss: 0.7578 - val_accuracy: 0.5000\n",
      "Epoch 35/100\n",
      "1/1 - 0s - loss: 0.6567 - accuracy: 0.5890 - val_loss: 0.7563 - val_accuracy: 0.5000\n",
      "Epoch 36/100\n",
      "1/1 - 0s - loss: 0.6559 - accuracy: 0.5890 - val_loss: 0.7547 - val_accuracy: 0.5000\n",
      "Epoch 37/100\n",
      "1/1 - 0s - loss: 0.6551 - accuracy: 0.5890 - val_loss: 0.7532 - val_accuracy: 0.5000\n",
      "Epoch 38/100\n",
      "1/1 - 0s - loss: 0.6543 - accuracy: 0.5890 - val_loss: 0.7517 - val_accuracy: 0.5000\n",
      "Epoch 39/100\n",
      "1/1 - 0s - loss: 0.6535 - accuracy: 0.5890 - val_loss: 0.7504 - val_accuracy: 0.5000\n",
      "Epoch 40/100\n",
      "1/1 - 0s - loss: 0.6527 - accuracy: 0.5890 - val_loss: 0.7491 - val_accuracy: 0.5000\n",
      "Epoch 41/100\n",
      "1/1 - 0s - loss: 0.6519 - accuracy: 0.5890 - val_loss: 0.7481 - val_accuracy: 0.5000\n",
      "Epoch 42/100\n",
      "1/1 - 0s - loss: 0.6510 - accuracy: 0.5890 - val_loss: 0.7473 - val_accuracy: 0.5000\n",
      "Epoch 43/100\n",
      "1/1 - 0s - loss: 0.6501 - accuracy: 0.5890 - val_loss: 0.7466 - val_accuracy: 0.5000\n",
      "Epoch 44/100\n",
      "1/1 - 0s - loss: 0.6491 - accuracy: 0.5890 - val_loss: 0.7462 - val_accuracy: 0.5000\n",
      "Epoch 45/100\n",
      "1/1 - 0s - loss: 0.6481 - accuracy: 0.5890 - val_loss: 0.7461 - val_accuracy: 0.5000\n",
      "Epoch 46/100\n",
      "1/1 - 0s - loss: 0.6470 - accuracy: 0.5890 - val_loss: 0.7462 - val_accuracy: 0.5000\n",
      "Epoch 47/100\n",
      "1/1 - 0s - loss: 0.6459 - accuracy: 0.5890 - val_loss: 0.7466 - val_accuracy: 0.5000\n",
      "Epoch 48/100\n",
      "1/1 - 0s - loss: 0.6446 - accuracy: 0.5890 - val_loss: 0.7473 - val_accuracy: 0.5000\n",
      "Epoch 49/100\n",
      "1/1 - 0s - loss: 0.6433 - accuracy: 0.5890 - val_loss: 0.7483 - val_accuracy: 0.5000\n",
      "Epoch 50/100\n",
      "1/1 - 0s - loss: 0.6419 - accuracy: 0.5890 - val_loss: 0.7496 - val_accuracy: 0.5000\n",
      "Epoch 51/100\n",
      "1/1 - 0s - loss: 0.6404 - accuracy: 0.5890 - val_loss: 0.7512 - val_accuracy: 0.5000\n",
      "Epoch 52/100\n",
      "1/1 - 0s - loss: 0.6388 - accuracy: 0.5890 - val_loss: 0.7530 - val_accuracy: 0.5000\n",
      "Epoch 53/100\n",
      "1/1 - 0s - loss: 0.6371 - accuracy: 0.5890 - val_loss: 0.7549 - val_accuracy: 0.5000\n",
      "Epoch 54/100\n",
      "1/1 - 0s - loss: 0.6353 - accuracy: 0.5890 - val_loss: 0.7569 - val_accuracy: 0.5000\n",
      "Epoch 55/100\n",
      "1/1 - 0s - loss: 0.6333 - accuracy: 0.5959 - val_loss: 0.7588 - val_accuracy: 0.5000\n",
      "Epoch 56/100\n",
      "1/1 - 0s - loss: 0.6312 - accuracy: 0.6164 - val_loss: 0.7605 - val_accuracy: 0.5000\n",
      "Epoch 57/100\n",
      "1/1 - 0s - loss: 0.6289 - accuracy: 0.6438 - val_loss: 0.7618 - val_accuracy: 0.5000\n",
      "Epoch 58/100\n",
      "1/1 - 0s - loss: 0.6264 - accuracy: 0.6438 - val_loss: 0.7628 - val_accuracy: 0.5000\n",
      "Epoch 59/100\n",
      "1/1 - 0s - loss: 0.6237 - accuracy: 0.6438 - val_loss: 0.7633 - val_accuracy: 0.5000\n",
      "Epoch 60/100\n",
      "1/1 - 0s - loss: 0.6207 - accuracy: 0.6438 - val_loss: 0.7635 - val_accuracy: 0.5000\n",
      "Epoch 61/100\n",
      "1/1 - 0s - loss: 0.6176 - accuracy: 0.6438 - val_loss: 0.7635 - val_accuracy: 0.5000\n",
      "Epoch 62/100\n",
      "1/1 - 0s - loss: 0.6141 - accuracy: 0.6438 - val_loss: 0.7633 - val_accuracy: 0.5000\n",
      "Epoch 63/100\n",
      "1/1 - 0s - loss: 0.6105 - accuracy: 0.6781 - val_loss: 0.7632 - val_accuracy: 0.5000\n",
      "Epoch 64/100\n",
      "1/1 - 0s - loss: 0.6067 - accuracy: 0.7123 - val_loss: 0.7630 - val_accuracy: 0.5000\n",
      "Epoch 65/100\n",
      "1/1 - 0s - loss: 0.6027 - accuracy: 0.7740 - val_loss: 0.7627 - val_accuracy: 0.5000\n",
      "Epoch 66/100\n",
      "1/1 - 0s - loss: 0.5985 - accuracy: 0.7740 - val_loss: 0.7622 - val_accuracy: 0.5000\n",
      "Epoch 67/100\n",
      "1/1 - 0s - loss: 0.5942 - accuracy: 0.7671 - val_loss: 0.7612 - val_accuracy: 0.6000\n",
      "Epoch 68/100\n",
      "1/1 - 0s - loss: 0.5898 - accuracy: 0.7671 - val_loss: 0.7598 - val_accuracy: 0.8000\n",
      "Epoch 69/100\n",
      "1/1 - 0s - loss: 0.5853 - accuracy: 0.7603 - val_loss: 0.7578 - val_accuracy: 0.8000\n",
      "Epoch 70/100\n",
      "1/1 - 0s - loss: 0.5807 - accuracy: 0.7603 - val_loss: 0.7555 - val_accuracy: 0.8000\n",
      "Epoch 71/100\n",
      "1/1 - 0s - loss: 0.5761 - accuracy: 0.7603 - val_loss: 0.7531 - val_accuracy: 0.8000\n",
      "Epoch 72/100\n",
      "1/1 - 0s - loss: 0.5715 - accuracy: 0.7603 - val_loss: 0.7510 - val_accuracy: 0.8000\n",
      "Epoch 73/100\n",
      "1/1 - 0s - loss: 0.5666 - accuracy: 0.7603 - val_loss: 0.7493 - val_accuracy: 0.8000\n",
      "Epoch 74/100\n",
      "1/1 - 0s - loss: 0.5617 - accuracy: 0.7534 - val_loss: 0.7482 - val_accuracy: 0.8000\n",
      "Epoch 75/100\n",
      "1/1 - 0s - loss: 0.5565 - accuracy: 0.7534 - val_loss: 0.7479 - val_accuracy: 0.8000\n",
      "Epoch 76/100\n",
      "1/1 - 0s - loss: 0.5511 - accuracy: 0.7534 - val_loss: 0.7482 - val_accuracy: 0.8000\n",
      "Epoch 77/100\n",
      "1/1 - 0s - loss: 0.5454 - accuracy: 0.7603 - val_loss: 0.7493 - val_accuracy: 0.8000\n",
      "Epoch 78/100\n",
      "1/1 - 0s - loss: 0.5397 - accuracy: 0.7603 - val_loss: 0.7510 - val_accuracy: 0.8000\n",
      "Epoch 79/100\n",
      "1/1 - 0s - loss: 0.5338 - accuracy: 0.7603 - val_loss: 0.7532 - val_accuracy: 0.8000\n",
      "Epoch 80/100\n",
      "1/1 - 0s - loss: 0.5279 - accuracy: 0.7603 - val_loss: 0.7557 - val_accuracy: 0.8000\n",
      "Epoch 81/100\n",
      "1/1 - 0s - loss: 0.5219 - accuracy: 0.7603 - val_loss: 0.7585 - val_accuracy: 0.8000\n",
      "Epoch 82/100\n",
      "1/1 - 0s - loss: 0.5158 - accuracy: 0.7603 - val_loss: 0.7614 - val_accuracy: 0.8000\n",
      "Epoch 83/100\n",
      "1/1 - 0s - loss: 0.5096 - accuracy: 0.7671 - val_loss: 0.7643 - val_accuracy: 0.8000\n",
      "Epoch 84/100\n",
      "1/1 - 0s - loss: 0.5032 - accuracy: 0.7671 - val_loss: 0.7672 - val_accuracy: 0.8000\n"
     ]
    },
    {
     "name": "stdout",
     "output_type": "stream",
     "text": [
      "Epoch 85/100\n",
      "1/1 - 0s - loss: 0.4967 - accuracy: 0.7671 - val_loss: 0.7703 - val_accuracy: 0.8000\n",
      "Epoch 86/100\n",
      "1/1 - 0s - loss: 0.4900 - accuracy: 0.7740 - val_loss: 0.7739 - val_accuracy: 0.8000\n",
      "Epoch 87/100\n",
      "1/1 - 0s - loss: 0.4832 - accuracy: 0.7740 - val_loss: 0.7783 - val_accuracy: 0.8000\n",
      "Epoch 88/100\n",
      "1/1 - 0s - loss: 0.4765 - accuracy: 0.7740 - val_loss: 0.7833 - val_accuracy: 0.8000\n",
      "Epoch 89/100\n",
      "1/1 - 0s - loss: 0.4697 - accuracy: 0.7740 - val_loss: 0.7886 - val_accuracy: 0.8000\n",
      "Epoch 90/100\n",
      "1/1 - 0s - loss: 0.4630 - accuracy: 0.7740 - val_loss: 0.7938 - val_accuracy: 0.8000\n",
      "Epoch 91/100\n",
      "1/1 - 0s - loss: 0.4563 - accuracy: 0.7808 - val_loss: 0.7993 - val_accuracy: 0.8000\n",
      "Epoch 92/100\n",
      "1/1 - 0s - loss: 0.4495 - accuracy: 0.7808 - val_loss: 0.8054 - val_accuracy: 0.8000\n",
      "Epoch 93/100\n",
      "1/1 - 0s - loss: 0.4426 - accuracy: 0.7877 - val_loss: 0.8122 - val_accuracy: 0.8000\n",
      "Epoch 94/100\n",
      "1/1 - 0s - loss: 0.4358 - accuracy: 0.7877 - val_loss: 0.8191 - val_accuracy: 0.8000\n",
      "Epoch 95/100\n",
      "1/1 - 0s - loss: 0.4290 - accuracy: 0.7945 - val_loss: 0.8256 - val_accuracy: 0.8000\n",
      "Epoch 96/100\n",
      "1/1 - 0s - loss: 0.4223 - accuracy: 0.7945 - val_loss: 0.8323 - val_accuracy: 0.8000\n",
      "Epoch 97/100\n",
      "1/1 - 0s - loss: 0.4158 - accuracy: 0.8014 - val_loss: 0.8404 - val_accuracy: 0.7000\n",
      "Epoch 98/100\n",
      "1/1 - 0s - loss: 0.4094 - accuracy: 0.8151 - val_loss: 0.8496 - val_accuracy: 0.5000\n",
      "Epoch 99/100\n",
      "1/1 - 0s - loss: 0.4032 - accuracy: 0.8425 - val_loss: 0.8584 - val_accuracy: 0.5000\n",
      "Epoch 100/100\n",
      "1/1 - 0s - loss: 0.3972 - accuracy: 0.8425 - val_loss: 0.8663 - val_accuracy: 0.5000\n"
     ]
    }
   ],
   "source": [
    "history = model.fit(\n",
    "    X_train, \n",
    "    Y_train, \n",
    "    validation_data=(X_test, Y_test), \n",
    "    epochs=100, \n",
    "    batch_size=300, \n",
    "    verbose=2,\n",
    "    shuffle=True\n",
    ")"
   ]
  },
  {
   "cell_type": "code",
   "execution_count": 30,
   "metadata": {},
   "outputs": [
    {
     "data": {
      "image/png": "[encoded data removed]",
      "text/plain": [
       "<Figure size 432x288 with 1 Axes>"
      ]
     },
     "metadata": {
      "needs_background": "light"
     },
     "output_type": "display_data"
    }
   ],
   "source": [
    "plt.plot(history.history['accuracy'])\n",
    "plt.plot(history.history['val_accuracy'])\n",
    "plt.title('model accuracy')\n",
    "plt.ylabel('accuracy')\n",
    "plt.xlabel('epoch')\n",
    "plt.legend(['train', 'val'], loc='upper left')\n",
    "plt.show()"
   ]
  },
  {
   "cell_type": "code",
   "execution_count": 24,
   "metadata": {},
   "outputs": [
    {
     "data": {
      "text/plain": [
       "array([[0.7885714 , 0.21142858],\n",
       "       [0.78926146, 0.21073852],\n",
       "       [0.68912536, 0.31087464],\n",
       "       [0.685984  , 0.31401598],\n",
       "       [0.6845682 , 0.3154318 ],\n",
       "       [0.7536397 , 0.24636035],\n",
       "       [0.74604917, 0.2539508 ],\n",
       "       [0.73722404, 0.26277596],\n",
       "       [0.7309931 , 0.2690069 ],\n",
       "       [0.724888  , 0.27511197]], dtype=float32)"
      ]
     },
     "execution_count": 24,
     "metadata": {},
     "output_type": "execute_result"
    }
   ],
   "source": [
    "model.predict(X_test)"
   ]
  },
  {
   "cell_type": "code",
   "execution_count": 18,
   "metadata": {},
   "outputs": [
    {
     "data": {
      "text/plain": [
       "array([[0.83365875, 0.16634119],\n",
       "       [0.8428246 , 0.15717542],\n",
       "       [0.83970153, 0.16029845],\n",
       "       [0.8355447 , 0.16445537],\n",
       "       [0.8248086 , 0.1751914 ],\n",
       "       [0.8127077 , 0.18729228],\n",
       "       [0.7995432 , 0.20045684],\n",
       "       [0.7930856 , 0.20691445],\n",
       "       [0.7922435 , 0.20775658],\n",
       "       [0.8029554 , 0.19704469],\n",
       "       [0.81855077, 0.18144923],\n",
       "       [0.86047834, 0.13952167],\n",
       "       [0.88450366, 0.11549628],\n",
       "       [0.89046884, 0.10953115],\n",
       "       [0.88098204, 0.11901799],\n",
       "       [0.83284366, 0.16715637],\n",
       "       [0.8922782 , 0.10772176],\n",
       "       [0.89697546, 0.10302454],\n",
       "       [0.8971753 , 0.10282467],\n",
       "       [0.89133245, 0.10866755],\n",
       "       [0.88297474, 0.1170253 ],\n",
       "       [0.8733653 , 0.12663475],\n",
       "       [0.33268094, 0.66731906],\n",
       "       [0.33423525, 0.66576475],\n",
       "       [0.33535084, 0.6646491 ],\n",
       "       [0.33376896, 0.66623104],\n",
       "       [0.33246046, 0.6675396 ],\n",
       "       [0.33206332, 0.6679367 ],\n",
       "       [0.33186   , 0.66813993],\n",
       "       [0.3317788 , 0.66822124],\n",
       "       [0.3312694 , 0.6687306 ],\n",
       "       [0.33055001, 0.66945   ],\n",
       "       [0.3303222 , 0.6696778 ],\n",
       "       [0.33141062, 0.6685894 ],\n",
       "       [0.3327835 , 0.6672165 ],\n",
       "       [0.33127916, 0.66872084],\n",
       "       [0.8312042 , 0.16879587],\n",
       "       [0.8355061 , 0.16449393],\n",
       "       [0.8366477 , 0.1633523 ],\n",
       "       [0.83297044, 0.16702954],\n",
       "       [0.82594395, 0.17405602],\n",
       "       [0.82099015, 0.17900988],\n",
       "       [0.8198978 , 0.18010218],\n",
       "       [0.8234779 , 0.17652214],\n",
       "       [0.8311195 , 0.16888052],\n",
       "       [0.83801305, 0.1619869 ],\n",
       "       [0.84087336, 0.15912661],\n",
       "       [0.836511  , 0.16348895],\n",
       "       [0.82988036, 0.1701197 ],\n",
       "       [0.3539352 , 0.64606476],\n",
       "       [0.35289028, 0.64710975],\n",
       "       [0.24839035, 0.7516097 ],\n",
       "       [0.24948055, 0.7505194 ],\n",
       "       [0.26804328, 0.7319567 ],\n",
       "       [0.3047118 , 0.69528824],\n",
       "       [0.3241909 , 0.675809  ],\n",
       "       [0.30036432, 0.6996357 ],\n",
       "       [0.26178402, 0.738216  ],\n",
       "       [0.23907949, 0.76092046],\n",
       "       [0.23016337, 0.7698366 ],\n",
       "       [0.22803223, 0.77196777],\n",
       "       [0.23056252, 0.76943755],\n",
       "       [0.23590006, 0.76409996],\n",
       "       [0.2373935 , 0.7626065 ],\n",
       "       [0.23362155, 0.7663784 ],\n",
       "       [0.2273641 , 0.77263594],\n",
       "       [0.2228218 , 0.77717817],\n",
       "       [0.221171  , 0.778829  ],\n",
       "       [0.22154632, 0.7784537 ],\n",
       "       [0.22332989, 0.7766701 ],\n",
       "       [0.22578526, 0.7742148 ],\n",
       "       [0.22698085, 0.7730192 ],\n",
       "       [0.22646175, 0.7735383 ],\n",
       "       [0.21562144, 0.7843786 ],\n",
       "       [0.21462372, 0.7853763 ],\n",
       "       [0.21414585, 0.78585416],\n",
       "       [0.21436575, 0.7856342 ],\n",
       "       [0.21505316, 0.78494686],\n",
       "       [0.21651441, 0.7834856 ],\n",
       "       [0.21755849, 0.7824415 ],\n",
       "       [0.21791728, 0.7820827 ],\n",
       "       [0.83353585, 0.16646418],\n",
       "       [0.8971536 , 0.10284641],\n",
       "       [0.9020276 , 0.09797241],\n",
       "       [0.9029094 , 0.09709065],\n",
       "       [0.90014017, 0.09985979],\n",
       "       [0.89388174, 0.10611828],\n",
       "       [0.888037  , 0.11196296],\n",
       "       [0.88497865, 0.11502135],\n",
       "       [0.883984  , 0.11601597],\n",
       "       [0.8822366 , 0.1177634 ],\n",
       "       [0.87749636, 0.12250364],\n",
       "       [0.86964107, 0.13035893],\n",
       "       [0.8625403 , 0.13745977],\n",
       "       [0.8475751 , 0.15242486],\n",
       "       [0.8178025 , 0.18219756],\n",
       "       [0.7697858 , 0.23021413],\n",
       "       [0.73004943, 0.26995057],\n",
       "       [0.723963  , 0.276037  ],\n",
       "       [0.7512996 , 0.2487004 ],\n",
       "       [0.7795931 , 0.22040693],\n",
       "       [0.7852554 , 0.21474464],\n",
       "       [0.78808916, 0.21191078],\n",
       "       [0.7904914 , 0.20950863],\n",
       "       [0.7931034 , 0.20689659],\n",
       "       [0.79420626, 0.20579372],\n",
       "       [0.7947649 , 0.20523514],\n",
       "       [0.7993735 , 0.20062646],\n",
       "       [0.8018257 , 0.19817434],\n",
       "       [0.8039006 , 0.19609937],\n",
       "       [0.8079496 , 0.19205043],\n",
       "       [0.8138148 , 0.18618518],\n",
       "       [0.82112217, 0.17887782],\n",
       "       [0.8309294 , 0.16907063],\n",
       "       [0.83884513, 0.1611549 ],\n",
       "       [0.8443868 , 0.15561317],\n",
       "       [0.8405116 , 0.15948832],\n",
       "       [0.82868135, 0.17131868],\n",
       "       [0.8198005 , 0.18019946],\n",
       "       [0.8191052 , 0.1808948 ],\n",
       "       [0.8184791 , 0.18152091],\n",
       "       [0.8178338 , 0.18216617],\n",
       "       [0.81671244, 0.1832875 ],\n",
       "       [0.8259288 , 0.17407118],\n",
       "       [0.84103173, 0.15896824],\n",
       "       [0.86041194, 0.139588  ],\n",
       "       [0.8772324 , 0.12276767],\n",
       "       [0.8767156 , 0.12328437],\n",
       "       [0.8741034 , 0.1258966 ],\n",
       "       [0.858512  , 0.14148802],\n",
       "       [0.84398115, 0.15601887],\n",
       "       [0.7975114 , 0.20248851],\n",
       "       [0.8192289 , 0.18077113],\n",
       "       [0.83399546, 0.16600455],\n",
       "       [0.8414277 , 0.15857239],\n",
       "       [0.85448873, 0.14551133],\n",
       "       [0.86301273, 0.13698728],\n",
       "       [0.871702  , 0.128298  ],\n",
       "       [0.8769458 , 0.12305424],\n",
       "       [0.8787474 , 0.12125259],\n",
       "       [0.87689614, 0.12310388],\n",
       "       [0.8724529 , 0.12754701],\n",
       "       [0.866089  , 0.133911  ],\n",
       "       [0.8578478 , 0.1421522 ],\n",
       "       [0.8516987 , 0.14830126],\n",
       "       [0.8434426 , 0.15655732]], dtype=float32)"
      ]
     },
     "execution_count": 18,
     "metadata": {},
     "output_type": "execute_result"
    }
   ],
   "source": [
    "model.predict(X_train)"
   ]
  },
  {
   "cell_type": "code",
   "execution_count": null,
   "metadata": {},
   "outputs": [],
   "source": []
  }
 ],
 "metadata": {
  "kernelspec": {
   "display_name": "Python 3",
   "language": "python",
   "name": "python3"
  },
  "language_info": {
   "codemirror_mode": {
    "name": "ipython",
    "version": 3
   },
   "file_extension": ".py",
   "mimetype": "text/x-python",
   "name": "python",
   "nbconvert_exporter": "python",
   "pygments_lexer": "ipython3",
   "version": "3.7.6"
  }
 },
 "nbformat": 4,
 "nbformat_minor": 4
}
